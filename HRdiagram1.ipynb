{
 "cells": [
  {
   "cell_type": "markdown",
   "id": "b954942f-4022-473e-9172-fa1f4c308053",
   "metadata": {},
   "source": [
    "# ABC del diagrama HR (Color-Magnitud) de un catálogo estelar en Python"
   ]
  },
  {
   "cell_type": "markdown",
   "id": "3297bb72-388a-4085-888c-d9b89fb3fcb5",
   "metadata": {},
   "source": [
    "En este ejemplo intentamos representar un Diagrama Herzprung-Russell a partir de una muestra\n",
    "del catálogo estelar HIPPARCOS-2, haciendo uso de la biblioteca Matplotlib. Se ensaya, además,\n",
    "un método simple de clasificación de las estrellas con una técnica de aprendizaje automático.\n",
    "En realidad, cuando no se representan exactamente los valores de Temperatura vs. Luminosidad,\n",
    "se dice que es un diagrama Color-Magnitud."
   ]
  },
  {
   "cell_type": "markdown",
   "id": "f8270d63-b808-4377-aefa-1b5dfafa4437",
   "metadata": {},
   "source": [
    "Se declaran bibliotecas comunes para descargar y leer un archivo comprimido."
   ]
  },
  {
   "cell_type": "code",
   "execution_count": null,
   "id": "170b66b8-2417-459b-87c6-71dd8189ce6d",
   "metadata": {},
   "outputs": [],
   "source": [
    "import requests\n",
    "from google.colab import files\n",
    "#import gzip\n",
    "#from io import BytesIO"
   ]
  },
  {
   "cell_type": "markdown",
   "id": "2339bf75-7af5-4512-8317-7df213a305b7",
   "metadata": {},
   "source": [
    "Se carga el catálogo estelar HIPPARCOS-2 disponible en el servidor del CDS: (ftp://cdsarc.u-strasbg.fr/pub/cats/I/311)"
   ]
  },
  {
   "cell_type": "code",
   "execution_count": 292,
   "id": "536f1d41-3597-4132-a112-c3b8fb3e7fdd",
   "metadata": {},
   "outputs": [],
   "source": [
    "# En Google Colab primero descarga el archivo\n",
    "url = \"https://cdsarc.u-strasbg.fr/viz-bin/nph-Cat/txt?I/311\"\n",
    "response = requests.get(url)\n",
    "with open('hip2.dat', 'wb') as f:\n",
    "    f.write(response.content)"
   ]
  },
  {
   "cell_type": "markdown",
   "id": "18dd400b-c983-4595-9f43-f10d8800ecc6",
   "metadata": {
    "tags": []
   },
   "source": [
    "Se importan las bibliotecas para manipular matrices y tablas avanzadas.  "
   ]
  },
  {
   "cell_type": "code",
   "execution_count": 189,
   "id": "da9152a7-1771-4ad6-afd9-cdb437178169",
   "metadata": {},
   "outputs": [],
   "source": [
    "import numpy as np\n",
    "import pandas as pd"
   ]
  },
  {
   "cell_type": "markdown",
   "id": "97317e77-4bcb-48f4-b64d-b3e56a606000",
   "metadata": {},
   "source": [
    "Se declaran las columnas y sus posiciones de comienzo y final, que están fijas en este fichero. Estas son sus primeras líneas:\n",
    "\n",
    "     1   5 0 1  0.0000159148  0.0190068680    4.55    -4.55    -1.19   1.29   0.66   1.33   1.25   0.75  90  0.91  0    0.0    0  9.2043 0.0020 0.017 0  0.482 0.025  0.550   1.19  -0.71   1.00  -0.02   0.02   1.00   0.45  -0.05   0.03   1.09  -0.41   0.09   0.08  -0.60   1.00\n",
    "     2  75 4 1  0.0000662767 -0.3403189126   20.85   182.88    -1.31   0.95   0.53   1.13   1.22   0.66 121  0.06  0    0.0    0  9.4017 0.0017 0.015 0  0.999 0.002  1.040   1.11  -0.33   1.03   0.19  -0.01   1.08   0.27  -0.04  -0.34   1.00  -0.14   0.38   0.04  -0.10   1.00\n",
    "\n",
    "Noten que la tabla tampoco tiene encabezamiento. Todo eso hay que declararlo."
   ]
  },
  {
   "cell_type": "code",
   "execution_count": 275,
   "id": "17a23e55-e01a-47df-86d0-e1e19a44b2be",
   "metadata": {},
   "outputs": [
    {
     "name": "stdout",
     "output_type": "stream",
     "text": [
      "Número de columnas 26\n"
     ]
    }
   ],
   "source": [
    "h2colnames = [\n",
    "    \"HIP\",  \n",
    "    \"Sn\",   \n",
    "    \"So\",   \n",
    "    \"Nc\",   \n",
    "    \"RArad\",\n",
    "    \"DErad\",\n",
    "    \"Plx\",  \n",
    "    \"pmRA\", \n",
    "    \"pmDE\", \n",
    "    \"e_RArad\",\n",
    "    \"e_DErad\",\n",
    "    \"e_Plx\",\n",
    "    \"e_pmRA\",\n",
    "    \"e_pmDE\",\n",
    "    \"Ntr\",  \n",
    "    \"F2\",   \n",
    "    \"F1\",   \n",
    "    \"var\",  \n",
    "    \"ic\",   \n",
    "    \"Hpmag\",\n",
    "    \"e_Hpmag\",\n",
    "    \"sHp\",  \n",
    "    \"VA\",   \n",
    "    \"B-V\",  \n",
    "    \"e_B-V\",\n",
    "    \"V-I\",\n",
    "    \"UW\" \n",
    "]\n",
    "print('Número de columnas',len(h2colnames))\n",
    "h2colspecs = [\n",
    "    (1,6),\n",
    "    (7,11),\n",
    "    (12,13),\n",
    "    (14,15),\n",
    "    (16,29),\n",
    "    (30,43),\n",
    "    (44,51),\n",
    "    (52,60),\n",
    "    (61,69),\n",
    "    (70,76),\n",
    "    (77,83),\n",
    "    (84,90),\n",
    "    (91,97),\n",
    "    (98,104),\n",
    "    (105,108),\n",
    "    (109,114),\n",
    "    (115,117),\n",
    "    (118,124),\n",
    "    (125,129),\n",
    "    (130,137),\n",
    "    (138,144),\n",
    "    (145,150),\n",
    "    (151,152),\n",
    "    (153,159),\n",
    "    (160,165),\n",
    "    (166,171)\n",
    "]"
   ]
  },
  {
   "cell_type": "code",
   "execution_count": 276,
   "id": "7154354e-76dc-43c7-9ec7-03d23e3badde",
   "metadata": {},
   "outputs": [],
   "source": [
    "h2cols2 = [(x-1,y-1) for (x,y) in h2colspecs]\n",
    "def read_hip2(fname=\"hip2.dat\", nrows=10):\n",
    "    df = pd.read_fwf(fname, names=h2colnames, colspecs=h2cols2, index_col=0, nrows=nrows)\n",
    "    return df"
   ]
  },
  {
   "cell_type": "code",
   "execution_count": 277,
   "id": "95eb6a12-e7f0-46e7-a694-4020044c3bd4",
   "metadata": {},
   "outputs": [],
   "source": [
    "# create dataframe from the data\n",
    "df = read_hip2(nrows=None)"
   ]
  },
  {
   "cell_type": "markdown",
   "id": "3f7610dd-a81e-4a22-9824-439d83b87bc1",
   "metadata": {},
   "source": [
    "### Cálculo de magnitud V (Visual en el Sistema de Johnson)\n",
    "\n",
    "El satélite astrométrico HIPPARCOS contenía un filtro de una frecuencia semejante a la banda V\n",
    "llamado HP, pero de diferente ancho de banda. En la versión completa del catálogo, se incorporan los valores\n",
    "de la magnitud aparente en la banda visual (V) obtenidos con otro instrumento, obtenidos de fuentes más precisas\n",
    "de otros catálogos o tomadas de otros sensores secundarios que también llevaba el satélite, pero el dato medido por\n",
    "el sensor es la HPmag. El cálculo de la exspresión de conversión debe ajustarse en los coeficientes empleados para distintos valores de índices de color, según la clase de estrella. Lo cual no es objetivo de esta demostración."
   ]
  },
  {
   "cell_type": "code",
   "execution_count": 278,
   "id": "885700d3-7443-4c7e-8fb6-0e298b4d1a8b",
   "metadata": {},
   "outputs": [],
   "source": [
    "def calculate_vmag(hpmag, b_v, a=-0.090, b=0.153):\n",
    "    \"\"\"Calcula V a partir de Hpmag y B-V\"\"\"\n",
    "    return hpmag + a * b_v + b\n",
    "\n",
    "## (Revisar expresión de conversión en el manual del catálogo, no está dando resultados correctos)"
   ]
  },
  {
   "cell_type": "code",
   "execution_count": 279,
   "id": "71d3d153-b5ad-479e-a749-89d7a7bd05ae",
   "metadata": {},
   "outputs": [],
   "source": [
    "df['Vmag'] = calculate_vmag(df['Hpmag'], df['B-V'])"
   ]
  },
  {
   "cell_type": "code",
   "execution_count": 280,
   "id": "28698f06-a5bc-4148-bd81-a8e03a83ad6d",
   "metadata": {},
   "outputs": [
    {
     "data": {
      "text/html": [
       "<div>\n",
       "<style scoped>\n",
       "    .dataframe tbody tr th:only-of-type {\n",
       "        vertical-align: middle;\n",
       "    }\n",
       "\n",
       "    .dataframe tbody tr th {\n",
       "        vertical-align: top;\n",
       "    }\n",
       "\n",
       "    .dataframe thead th {\n",
       "        text-align: right;\n",
       "    }\n",
       "</style>\n",
       "<table border=\"1\" class=\"dataframe\">\n",
       "  <thead>\n",
       "    <tr style=\"text-align: right;\">\n",
       "      <th></th>\n",
       "      <th>Sn</th>\n",
       "      <th>So</th>\n",
       "      <th>Nc</th>\n",
       "      <th>RArad</th>\n",
       "      <th>DErad</th>\n",
       "      <th>Plx</th>\n",
       "      <th>pmRA</th>\n",
       "      <th>pmDE</th>\n",
       "      <th>e_RArad</th>\n",
       "      <th>e_DErad</th>\n",
       "      <th>...</th>\n",
       "      <th>var</th>\n",
       "      <th>ic</th>\n",
       "      <th>Hpmag</th>\n",
       "      <th>e_Hpmag</th>\n",
       "      <th>sHp</th>\n",
       "      <th>VA</th>\n",
       "      <th>B-V</th>\n",
       "      <th>e_B-V</th>\n",
       "      <th>V-I</th>\n",
       "      <th>Vmag</th>\n",
       "    </tr>\n",
       "    <tr>\n",
       "      <th>HIP</th>\n",
       "      <th></th>\n",
       "      <th></th>\n",
       "      <th></th>\n",
       "      <th></th>\n",
       "      <th></th>\n",
       "      <th></th>\n",
       "      <th></th>\n",
       "      <th></th>\n",
       "      <th></th>\n",
       "      <th></th>\n",
       "      <th></th>\n",
       "      <th></th>\n",
       "      <th></th>\n",
       "      <th></th>\n",
       "      <th></th>\n",
       "      <th></th>\n",
       "      <th></th>\n",
       "      <th></th>\n",
       "      <th></th>\n",
       "      <th></th>\n",
       "      <th></th>\n",
       "    </tr>\n",
       "  </thead>\n",
       "  <tbody>\n",
       "    <tr>\n",
       "      <th>1</th>\n",
       "      <td>5</td>\n",
       "      <td>0</td>\n",
       "      <td>1</td>\n",
       "      <td>0.000016</td>\n",
       "      <td>0.019007</td>\n",
       "      <td>4.55</td>\n",
       "      <td>-4.55</td>\n",
       "      <td>-1.19</td>\n",
       "      <td>1.29</td>\n",
       "      <td>0.66</td>\n",
       "      <td>...</td>\n",
       "      <td>0.0</td>\n",
       "      <td>0</td>\n",
       "      <td>9.2043</td>\n",
       "      <td>0.0020</td>\n",
       "      <td>0.017</td>\n",
       "      <td>0</td>\n",
       "      <td>0.482</td>\n",
       "      <td>0.025</td>\n",
       "      <td>0.55</td>\n",
       "      <td>9.31392</td>\n",
       "    </tr>\n",
       "    <tr>\n",
       "      <th>2</th>\n",
       "      <td>75</td>\n",
       "      <td>4</td>\n",
       "      <td>1</td>\n",
       "      <td>0.000066</td>\n",
       "      <td>-0.340319</td>\n",
       "      <td>20.85</td>\n",
       "      <td>182.88</td>\n",
       "      <td>-1.31</td>\n",
       "      <td>0.95</td>\n",
       "      <td>0.53</td>\n",
       "      <td>...</td>\n",
       "      <td>0.0</td>\n",
       "      <td>0</td>\n",
       "      <td>9.4017</td>\n",
       "      <td>0.0017</td>\n",
       "      <td>0.015</td>\n",
       "      <td>0</td>\n",
       "      <td>0.999</td>\n",
       "      <td>0.002</td>\n",
       "      <td>1.04</td>\n",
       "      <td>9.46479</td>\n",
       "    </tr>\n",
       "    <tr>\n",
       "      <th>3</th>\n",
       "      <td>5</td>\n",
       "      <td>0</td>\n",
       "      <td>1</td>\n",
       "      <td>0.000087</td>\n",
       "      <td>0.678222</td>\n",
       "      <td>2.26</td>\n",
       "      <td>4.27</td>\n",
       "      <td>-3.43</td>\n",
       "      <td>0.31</td>\n",
       "      <td>0.21</td>\n",
       "      <td>...</td>\n",
       "      <td>0.0</td>\n",
       "      <td>0</td>\n",
       "      <td>6.6081</td>\n",
       "      <td>0.0006</td>\n",
       "      <td>0.008</td>\n",
       "      <td>0</td>\n",
       "      <td>-0.019</td>\n",
       "      <td>0.004</td>\n",
       "      <td>0.00</td>\n",
       "      <td>6.76281</td>\n",
       "    </tr>\n",
       "    <tr>\n",
       "      <th>4</th>\n",
       "      <td>5</td>\n",
       "      <td>0</td>\n",
       "      <td>1</td>\n",
       "      <td>0.000146</td>\n",
       "      <td>-0.905713</td>\n",
       "      <td>7.45</td>\n",
       "      <td>62.64</td>\n",
       "      <td>0.19</td>\n",
       "      <td>0.40</td>\n",
       "      <td>0.47</td>\n",
       "      <td>...</td>\n",
       "      <td>0.0</td>\n",
       "      <td>0</td>\n",
       "      <td>8.1498</td>\n",
       "      <td>0.0011</td>\n",
       "      <td>0.015</td>\n",
       "      <td>0</td>\n",
       "      <td>0.370</td>\n",
       "      <td>0.009</td>\n",
       "      <td>0.43</td>\n",
       "      <td>8.26950</td>\n",
       "    </tr>\n",
       "    <tr>\n",
       "      <th>5</th>\n",
       "      <td>5</td>\n",
       "      <td>0</td>\n",
       "      <td>1</td>\n",
       "      <td>0.000174</td>\n",
       "      <td>-0.708451</td>\n",
       "      <td>3.88</td>\n",
       "      <td>1.89</td>\n",
       "      <td>8.06</td>\n",
       "      <td>0.55</td>\n",
       "      <td>0.50</td>\n",
       "      <td>...</td>\n",
       "      <td>0.0</td>\n",
       "      <td>0</td>\n",
       "      <td>8.7077</td>\n",
       "      <td>0.0018</td>\n",
       "      <td>0.019</td>\n",
       "      <td>0</td>\n",
       "      <td>0.902</td>\n",
       "      <td>0.013</td>\n",
       "      <td>0.90</td>\n",
       "      <td>8.77952</td>\n",
       "    </tr>\n",
       "  </tbody>\n",
       "</table>\n",
       "<p>5 rows × 26 columns</p>\n",
       "</div>"
      ],
      "text/plain": [
       "     Sn  So  Nc     RArad     DErad    Plx    pmRA  pmDE  e_RArad  e_DErad  \\\n",
       "HIP                                                                          \n",
       "1     5   0   1  0.000016  0.019007   4.55   -4.55 -1.19     1.29     0.66   \n",
       "2    75   4   1  0.000066 -0.340319  20.85  182.88 -1.31     0.95     0.53   \n",
       "3     5   0   1  0.000087  0.678222   2.26    4.27 -3.43     0.31     0.21   \n",
       "4     5   0   1  0.000146 -0.905713   7.45   62.64  0.19     0.40     0.47   \n",
       "5     5   0   1  0.000174 -0.708451   3.88    1.89  8.06     0.55     0.50   \n",
       "\n",
       "     ...  var  ic   Hpmag  e_Hpmag    sHp  VA    B-V  e_B-V   V-I     Vmag  \n",
       "HIP  ...                                                                    \n",
       "1    ...  0.0   0  9.2043   0.0020  0.017   0  0.482  0.025  0.55  9.31392  \n",
       "2    ...  0.0   0  9.4017   0.0017  0.015   0  0.999  0.002  1.04  9.46479  \n",
       "3    ...  0.0   0  6.6081   0.0006  0.008   0 -0.019  0.004  0.00  6.76281  \n",
       "4    ...  0.0   0  8.1498   0.0011  0.015   0  0.370  0.009  0.43  8.26950  \n",
       "5    ...  0.0   0  8.7077   0.0018  0.019   0  0.902  0.013  0.90  8.77952  \n",
       "\n",
       "[5 rows x 26 columns]"
      ]
     },
     "execution_count": 280,
     "metadata": {},
     "output_type": "execute_result"
    }
   ],
   "source": [
    "df.head()"
   ]
  },
  {
   "cell_type": "markdown",
   "id": "03c2a33d-892c-4d2c-8a6e-6c36746b166b",
   "metadata": {},
   "source": [
    "### Cálculo de distancia\n",
    "Se computa la distancia a partir del paralaje, teniendo en cuenta que éste está expresado\n",
    "en miliarcosegundos (mas)."
   ]
  },
  {
   "cell_type": "code",
   "execution_count": 243,
   "id": "bd9be9e7-3eaf-4e22-a4fd-9a10d0b403b0",
   "metadata": {},
   "outputs": [],
   "source": [
    "df = df[df['Plx'] > 0][['Vmag','Plx','B-V']]\n",
    "df['Distance'] = 1000.0/df['Plx']"
   ]
  },
  {
   "cell_type": "code",
   "execution_count": 244,
   "id": "73a15f76-d1ac-4104-9d2a-6b2ff95541b6",
   "metadata": {},
   "outputs": [
    {
     "data": {
      "text/html": [
       "<div>\n",
       "<style scoped>\n",
       "    .dataframe tbody tr th:only-of-type {\n",
       "        vertical-align: middle;\n",
       "    }\n",
       "\n",
       "    .dataframe tbody tr th {\n",
       "        vertical-align: top;\n",
       "    }\n",
       "\n",
       "    .dataframe thead th {\n",
       "        text-align: right;\n",
       "    }\n",
       "</style>\n",
       "<table border=\"1\" class=\"dataframe\">\n",
       "  <thead>\n",
       "    <tr style=\"text-align: right;\">\n",
       "      <th></th>\n",
       "      <th>Vmag</th>\n",
       "      <th>Plx</th>\n",
       "      <th>B-V</th>\n",
       "      <th>Distance</th>\n",
       "    </tr>\n",
       "    <tr>\n",
       "      <th>HIP</th>\n",
       "      <th></th>\n",
       "      <th></th>\n",
       "      <th></th>\n",
       "      <th></th>\n",
       "    </tr>\n",
       "  </thead>\n",
       "  <tbody>\n",
       "    <tr>\n",
       "      <th>1</th>\n",
       "      <td>9.31392</td>\n",
       "      <td>4.55</td>\n",
       "      <td>0.482</td>\n",
       "      <td>219.780220</td>\n",
       "    </tr>\n",
       "    <tr>\n",
       "      <th>2</th>\n",
       "      <td>9.46479</td>\n",
       "      <td>20.85</td>\n",
       "      <td>0.999</td>\n",
       "      <td>47.961631</td>\n",
       "    </tr>\n",
       "    <tr>\n",
       "      <th>3</th>\n",
       "      <td>6.76281</td>\n",
       "      <td>2.26</td>\n",
       "      <td>-0.019</td>\n",
       "      <td>442.477876</td>\n",
       "    </tr>\n",
       "    <tr>\n",
       "      <th>4</th>\n",
       "      <td>8.26950</td>\n",
       "      <td>7.45</td>\n",
       "      <td>0.370</td>\n",
       "      <td>134.228188</td>\n",
       "    </tr>\n",
       "    <tr>\n",
       "      <th>5</th>\n",
       "      <td>8.77952</td>\n",
       "      <td>3.88</td>\n",
       "      <td>0.902</td>\n",
       "      <td>257.731959</td>\n",
       "    </tr>\n",
       "  </tbody>\n",
       "</table>\n",
       "</div>"
      ],
      "text/plain": [
       "        Vmag    Plx    B-V    Distance\n",
       "HIP                                   \n",
       "1    9.31392   4.55  0.482  219.780220\n",
       "2    9.46479  20.85  0.999   47.961631\n",
       "3    6.76281   2.26 -0.019  442.477876\n",
       "4    8.26950   7.45  0.370  134.228188\n",
       "5    8.77952   3.88  0.902  257.731959"
      ]
     },
     "execution_count": 244,
     "metadata": {},
     "output_type": "execute_result"
    }
   ],
   "source": [
    "df.head()"
   ]
  },
  {
   "cell_type": "markdown",
   "id": "71980bdd-767f-4d1a-9b5a-8456f2230951",
   "metadata": {},
   "source": [
    "### Cálculo de magnitud absoluta\n",
    "\n",
    "La magnitud absoluta se computa a partir de la magnitud aparente, despejando de la expresión del Módulo de\n",
    "distancia, que es la diferencia entre la magnitud aparente y la magnitud absoluta de un objeto celeste (m-M).\n",
    "\n",
    "$$ (m-M) = 5 \\log_{10}(\\frac{d}{10}) $$\n",
    "\n",
    "Noten cómo se representa una expresión matemática en Markdown,\n",
    "al estilo Latex: **\\$$ (m-M) = 5 \\log_{10}(\\frac{d}{10}) \\$$** "
   ]
  },
  {
   "cell_type": "code",
   "execution_count": 255,
   "id": "6d66e697-3922-462d-ba70-f202029d9c0b",
   "metadata": {},
   "outputs": [],
   "source": [
    "# compute absolute magnitude from apparent magnitude\n",
    "df['AbsMag'] =  df['Vmag'] + 5 - 5*np.log10(df['Distance'])"
   ]
  },
  {
   "cell_type": "code",
   "execution_count": 256,
   "id": "dd194863-46d4-4c0a-b159-9e121bd6139d",
   "metadata": {},
   "outputs": [
    {
     "data": {
      "text/html": [
       "<div>\n",
       "<style scoped>\n",
       "    .dataframe tbody tr th:only-of-type {\n",
       "        vertical-align: middle;\n",
       "    }\n",
       "\n",
       "    .dataframe tbody tr th {\n",
       "        vertical-align: top;\n",
       "    }\n",
       "\n",
       "    .dataframe thead th {\n",
       "        text-align: right;\n",
       "    }\n",
       "</style>\n",
       "<table border=\"1\" class=\"dataframe\">\n",
       "  <thead>\n",
       "    <tr style=\"text-align: right;\">\n",
       "      <th></th>\n",
       "      <th>Vmag</th>\n",
       "      <th>Plx</th>\n",
       "      <th>B-V</th>\n",
       "      <th>Distance</th>\n",
       "      <th>AbsMag</th>\n",
       "    </tr>\n",
       "    <tr>\n",
       "      <th>HIP</th>\n",
       "      <th></th>\n",
       "      <th></th>\n",
       "      <th></th>\n",
       "      <th></th>\n",
       "      <th></th>\n",
       "    </tr>\n",
       "  </thead>\n",
       "  <tbody>\n",
       "    <tr>\n",
       "      <th>1</th>\n",
       "      <td>9.31392</td>\n",
       "      <td>4.55</td>\n",
       "      <td>0.482</td>\n",
       "      <td>219.780220</td>\n",
       "      <td>2.603977</td>\n",
       "    </tr>\n",
       "    <tr>\n",
       "      <th>2</th>\n",
       "      <td>9.46479</td>\n",
       "      <td>20.85</td>\n",
       "      <td>0.999</td>\n",
       "      <td>47.961631</td>\n",
       "      <td>6.060320</td>\n",
       "    </tr>\n",
       "    <tr>\n",
       "      <th>3</th>\n",
       "      <td>6.76281</td>\n",
       "      <td>2.26</td>\n",
       "      <td>-0.019</td>\n",
       "      <td>442.477876</td>\n",
       "      <td>-1.466648</td>\n",
       "    </tr>\n",
       "    <tr>\n",
       "      <th>4</th>\n",
       "      <td>8.26950</td>\n",
       "      <td>7.45</td>\n",
       "      <td>0.370</td>\n",
       "      <td>134.228188</td>\n",
       "      <td>2.630281</td>\n",
       "    </tr>\n",
       "    <tr>\n",
       "      <th>5</th>\n",
       "      <td>8.77952</td>\n",
       "      <td>3.88</td>\n",
       "      <td>0.902</td>\n",
       "      <td>257.731959</td>\n",
       "      <td>1.723679</td>\n",
       "    </tr>\n",
       "  </tbody>\n",
       "</table>\n",
       "</div>"
      ],
      "text/plain": [
       "        Vmag    Plx    B-V    Distance    AbsMag\n",
       "HIP                                             \n",
       "1    9.31392   4.55  0.482  219.780220  2.603977\n",
       "2    9.46479  20.85  0.999   47.961631  6.060320\n",
       "3    6.76281   2.26 -0.019  442.477876 -1.466648\n",
       "4    8.26950   7.45  0.370  134.228188  2.630281\n",
       "5    8.77952   3.88  0.902  257.731959  1.723679"
      ]
     },
     "execution_count": 256,
     "metadata": {},
     "output_type": "execute_result"
    }
   ],
   "source": [
    "df.head()"
   ]
  },
  {
   "cell_type": "markdown",
   "id": "e5dec573-73cb-497e-b5ce-d08ebe26cf5c",
   "metadata": {},
   "source": [
    "### Un ejemplo de prueba con la estrella Sirio"
   ]
  },
  {
   "cell_type": "code",
   "execution_count": 266,
   "id": "54b244da-d374-4e1e-874a-012273295189",
   "metadata": {},
   "outputs": [
    {
     "data": {
      "text/plain": [
       "Vmag         -0.935410\n",
       "Plx         379.210000\n",
       "B-V           0.009000\n",
       "Distance      2.637061\n",
       "AbsMag        1.958989\n",
       "Name: 32349, dtype: float64"
      ]
     },
     "execution_count": 266,
     "metadata": {},
     "output_type": "execute_result"
    }
   ],
   "source": [
    "df.loc[32349]"
   ]
  },
  {
   "cell_type": "markdown",
   "id": "d5b14441-b0aa-4a42-8a0f-66e784875c36",
   "metadata": {},
   "source": [
    "Revisar resultados!"
   ]
  },
  {
   "cell_type": "markdown",
   "id": "b5b9443c-24c8-45c8-a5f7-11d78c29d684",
   "metadata": {},
   "source": [
    "### Ahora vamos a intentar clasificar las estrellas\n",
    "\n",
    "Si hacemos dos grupos, posiblemente separemos las de la secuencia principal de las que están en otra fase de su evolución. Hagamos notar que el algoritmo de agrupamiento ignora la astrofísica de la evolución estelar.\n",
    "\n",
    "Para no sobrecargar el gráfico vamos a tomar una muestra aleatoria de solo 300 estrellas\n",
    "del catálogo."
   ]
  },
  {
   "cell_type": "code",
   "execution_count": 267,
   "id": "3b39e349-bcd3-4cf9-bda5-89f5c0d5a8c5",
   "metadata": {},
   "outputs": [
    {
     "data": {
      "text/plain": [
       "(300, 5)"
      ]
     },
     "execution_count": 267,
     "metadata": {},
     "output_type": "execute_result"
    }
   ],
   "source": [
    "star_sample = df.sample(n=300)\n",
    "star_sample.shape"
   ]
  },
  {
   "cell_type": "markdown",
   "id": "ca03060a-f5aa-4bae-92a7-52c6d1118a29",
   "metadata": {},
   "source": [
    "Ahora invocamos los módulos necesarios de una biblioteca de aprendizaje automático."
   ]
  },
  {
   "cell_type": "code",
   "execution_count": 260,
   "id": "4d266497-07b8-46df-84d8-b88e7e24b062",
   "metadata": {},
   "outputs": [],
   "source": [
    "from sklearn import preprocessing\n",
    "from sklearn.neighbors import kneighbors_graph\n",
    "from sklearn.cluster import AgglomerativeClustering"
   ]
  },
  {
   "cell_type": "markdown",
   "id": "c98f433b-c2c8-407e-932a-52e024539b68",
   "metadata": {
    "tags": []
   },
   "source": [
    "Antes hay que convertir la tabla en una matriz de numpy y aplicar una transformación de escala\n",
    "para que los valores estén en el mismo rango:  "
   ]
  },
  {
   "cell_type": "code",
   "execution_count": 261,
   "id": "f4f3abb1-4b9b-4de9-9549-610ad4e4e563",
   "metadata": {
    "tags": []
   },
   "outputs": [],
   "source": [
    "X= star_sample[['AbsMag','B-V']].to_numpy()\n",
    "\n",
    "scaler = preprocessing.StandardScaler().fit(X)\n",
    "XT = scaler.transform(X)"
   ]
  },
  {
   "cell_type": "markdown",
   "id": "ff3016e1-b67b-4308-a091-f23735c9dbc6",
   "metadata": {
    "tags": []
   },
   "source": [
    "Aquí aplicamos la función de agrupamiento aglomerativo, para un número de grupos que decidamos:"
   ]
  },
  {
   "cell_type": "code",
   "execution_count": 261,
   "id": "0e197f72-4cbe-45e7-8cd5-99a9b9b19bc9",
   "metadata": {
    "tags": []
   },
   "outputs": [],
   "source": [
    "connectivity = kneighbors_graph(XT, n_neighbors=4, include_self=False)\n",
    "ac = AgglomerativeClustering(n_clusters=2, connectivity=connectivity).fit(XT)"
   ]
  },
  {
   "cell_type": "markdown",
   "id": "46699d3b-04dd-4a9e-9499-81d714c3e980",
   "metadata": {},
   "source": [
    "Definimos una paleta de colores y asignamos un color a cada estrella según el resultado\n",
    "del clasificador."
   ]
  },
  {
   "cell_type": "code",
   "execution_count": 262,
   "id": "3dd494e0-725a-4188-aabe-0f7ed1d07f9b",
   "metadata": {},
   "outputs": [],
   "source": [
    "star_sample['color'] = ac.labels_\n",
    "\n",
    "cm = [\n",
    "    'crimson',\n",
    "    'darkblue',\n",
    "    'orange',\n",
    "    'green'\n",
    "]\n",
    "cmap = star_sample['color'].apply(lambda x: cm[x])"
   ]
  },
  {
   "cell_type": "markdown",
   "id": "ef46a35e-fda1-4935-b608-df85dab22149",
   "metadata": {
    "tags": []
   },
   "source": [
    "Se importa la biblioteca gráfica que usaremos para reresentar el diagrama de Color-Magnitud. \n",
    "Normalmente se hace al inicio, por costumbre, pero aquí es posible hacerlo.\n",
    "Solo que debe ser antes de usar sus funciones.  "
   ]
  },
  {
   "cell_type": "code",
   "execution_count": 190,
   "id": "aebad488-7814-4a88-85b1-cd162116fd0d",
   "metadata": {
    "tags": []
   },
   "outputs": [],
   "source": [
    "import matplotlib.pyplot as plt"
   ]
  },
  {
   "cell_type": "markdown",
   "id": "7221889c-f5c5-44c9-b637-c4d029855548",
   "metadata": {},
   "source": [
    "Y representamos la relación en un **scatter-plot**"
   ]
  },
  {
   "cell_type": "code",
   "execution_count": 263,
   "id": "d2035d02-9c9b-4a9d-8773-f47904b7f39e",
   "metadata": {},
   "outputs": [
    {
     "data": {
      "image/png": "[encoded data removed]",
      "text/plain": [
       "<Figure size 600x400 with 1 Axes>"
      ]
     },
     "metadata": {},
     "output_type": "display_data"
    }
   ],
   "source": [
    "star_sample.plot(x='B-V', y='AbsMag', kind='scatter', figsize=(6,4),\n",
    "        title='Magnitud absoluta vs. índice de color B-V', color=cmap,\n",
    "        grid=True, legend=False).invert_yaxis()"
   ]
  },
  {
   "cell_type": "markdown",
   "id": "ef0791bb-3007-49fe-b3b7-3e71dad9b27f",
   "metadata": {},
   "source": [
    "## Referencias\n",
    "La idea de este código ha sido tomada de diversas fuentes, entre ellas:\n",
    "* [Using Machine Learning in an HR Diagram](https://cocalc.com/share/download/08b6e03583cbdef3cdb9813a54ec68ff773c747f/SDSS/hr03.sagews)\n",
    "* Introduction to HRD: [The Hertzsprung-Russell Diagram](http://www.atnf.csiro.au/outreach/education/senior/astrophysics/stellarevolution_hrintro.html)\n",
    "* Sloan Digital Sky Survey DR14 Projects: [The Hertzsprung-Russell Diagram](http://skyserver.sdss.org/dr14/en/proj/advanced/hr/hrhome.aspx)\n",
    "* scikit-learn documentation: [Clustering](http://scikit-learn.org/stable/modules/clustering.html)\n",
    "* Hubble Space Telescope: [Hertzsprung-Russell diagram animation](http://www.spacetelescope.org/videos/heic1017b/)"
   ]
  },
  {
   "cell_type": "code",
   "execution_count": null,
   "id": "bc72997d-eafd-46c9-a006-92f0ea183310",
   "metadata": {},
   "outputs": [],
   "source": []
  }
 ],
 "metadata": {
  "kernelspec": {
   "display_name": "Python 3 (ipykernel)",
   "language": "python",
   "name": "python3"
  },
  "language_info": {
   "codemirror_mode": {
    "name": "ipython",
    "version": 3
   },
   "file_extension": ".py",
   "mimetype": "text/x-python",
   "name": "python",
   "nbconvert_exporter": "python",
   "pygments_lexer": "ipython3",
   "version": "3.9.13"
  }
 },
 "nbformat": 4,
 "nbformat_minor": 5
}
