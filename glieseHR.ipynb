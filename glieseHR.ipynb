{
 "cells": [
  {
   "cell_type": "markdown",
   "id": "47e04523-86a9-4211-9080-18d046b49a80",
   "metadata": {},
   "source": [
    "![Gliese Catalog HR Diagram](https://upload.wikimedia.org/wikipedia/commons/thumb/3/33/HRDiagram_es.svg/1200px-HRDiagram_es.svg.png)\n",
    "\n",
    "# Diagrama Hertzsprung-Russell del Catálogo Gliese\n",
    "**Análisis de etapas evolutivas estelares usando Machine Learning**\n",
    "\n",
    "---\n",
    "Última actualización: [2025-08-07]"
   ]
  },
  {
   "cell_type": "code",
   "execution_count": null,
   "id": "1a7384c2-75e8-4e5e-8063-90a66cc7d197",
   "metadata": {},
   "outputs": [],
   "source": [
    "%%capture\n",
    "!pip install astroquery scikit-learn matplotlib astropy"
   ]
  },
  {
   "cell_type": "markdown",
   "id": "66c2e052-d132-47dd-a265-03d1a6dee1e6",
   "metadata": {},
   "source": [
    "## 1. Obtención de datos"
   ]
  },
  {
   "cell_type": "code",
   "execution_count": null,
   "id": "59f5de66-8084-4a38-a270-1168604bd326",
   "metadata": {},
   "outputs": [],
   "source": [
    "from astroquery.vizier import Vizier\n",
    "import pandas as pd\n",
    "import numpy as np\n",
    "\n",
    "# Configurar consulta al catálogo actualizado\n",
    "Vizier.ROW_LIMIT = -1\n",
    "catalogs = Vizier.get_catalogs('V/137D')\n",
    "\n",
    "# Convertir a DataFrame\n",
    "gliese_df = catalogs[0].to_pandas()"
   ]
  },
  {
   "cell_type": "markdown",
   "id": "100330da-7b6c-4bac-9ae0-593c8c07dba6",
   "metadata": {},
   "source": [
    "## 2. Preprocesamiento"
   ]
  },
  {
   "cell_type": "code",
   "execution_count": null,
   "id": "564d78e6-e652-4a95-9e87-7036c648416e",
   "metadata": {},
   "outputs": [],
   "source": [
    "from sklearn.preprocessing import StandardScaler\n",
    "from sklearn.cluster import KMeans\n",
    "\n",
    "# Filtrar columnas relevantes\n",
    "features = gliese_df[['Teff', 'logL']].dropna()\n",
    "\n",
    "# Normalización\n",
    "scaler = StandardScaler()\n",
    "X_scaled = scaler.fit_transform(features)"
   ]
  },
  {
   "cell_type": "markdown",
   "id": "01bbe7a3-0dea-4434-be7d-6a09296c23d9",
   "metadata": {},
   "source": [
    "## 3. Clasificación evolutiva"
   ]
  },
  {
   "cell_type": "code",
   "execution_count": null,
   "id": "824d9381-e35c-4c0e-94c4-2bb5671ce117",
   "metadata": {},
   "outputs": [],
   "source": [
    "# Determinación óptima de clusters (método del codo)\n",
    "wcss = []\n",
    "for i in range(1, 6):\n",
    "    kmeans = KMeans(n_clusters=i, init='k-means++', random_state=42)\n",
    "    kmeans.fit(X_scaled)\n",
    "    wcss.append(kmeans.inertia_)"
   ]
  },
  {
   "cell_type": "code",
   "execution_count": null,
   "id": "ea5beeb4-bb82-47d2-8444-ad40e3d2136e",
   "metadata": {},
   "outputs": [],
   "source": [
    "# Aplicar K-Means con 4 clusters (principales etapas)\n",
    "optimal_clusters = 4\n",
    "kmeans = KMeans(n_clusters=optimal_clusters, init='k-means++', random_state=42)\n",
    "clusters = kmeans.fit_predict(X_scaled)"
   ]
  },
  {
   "cell_type": "markdown",
   "id": "43ef5adb-e950-4457-8454-b8c5afb1d53c",
   "metadata": {},
   "source": [
    "## 4. Visualización"
   ]
  },
  {
   "cell_type": "code",
   "execution_count": null,
   "id": "9cad819f-004c-4b01-876d-e5f47631b7cb",
   "metadata": {},
   "outputs": [],
   "source": [
    "import matplotlib.pyplot as plt\n",
    "from matplotlib.colors import ListedColormap\n",
    "\n",
    "plt.style.use('seaborn-darkgrid')\n",
    "plt.figure(figsize=(12, 8))\n",
    "\n",
    "# Paleta de colores para etapas evolutivas\n",
    "cmap = ListedColormap(['#1f77b4', '#ff7f0e', '#2ca02c', '#d62728'])\n",
    "\n",
    "scatter = plt.scatter(features['Teff'], features['logL'],\n",
    "                      c=clusters, cmap=cmap, s=15, alpha=0.8)\n",
    "\n",
    "# Configuración del diagrama HR\n",
    "plt.gca().invert_xaxis()\n",
    "plt.colorbar(scatter, label='Etapa evolutiva')\n",
    "plt.title('Diagrama Hertzsprung-Russell - Catálogo Gliese', fontsize=14)\n",
    "plt.xlabel('Temperatura efectiva (K)', fontsize=12)\n",
    "plt.ylabel('Luminosidad (log L/L☉)', fontsize=12)\n",
    "\n",
    "# Anotaciones de etapas\n",
    "stage_labels = {\n",
    "    0: 'Secuencia principal',\n",
    "    1: 'Gigantes',\n",
    "    2: 'Enanas blancas',\n",
    "    3: 'Subgigantes'\n",
    "}\n",
    "handles = [plt.Line2D([0], [0], marker='o', color='w', \n",
    "                      markerfacecolor=cmap(i), markersize=10)\n",
    "           for i in range(optimal_clusters)]\n",
    "plt.legend(handles, stage_labels.values(), title='Clasificación')\n",
    "\n",
    "plt.show()"
   ]
  },
  {
   "cell_type": "markdown",
   "id": "e0db002d-03f7-49d8-b151-c82d10de46de",
   "metadata": {},
   "source": [
    "## Interpretación de clusters\n",
    "\n",
    "| Cluster | Características                     | Etapa evolutiva típica |\n",
    "|---------|-------------------------------------|------------------------|\n",
    "| 0       | Alta temperatura, media luminosidad | Secuencia principal    |\n",
    "| 1       | Media temperatura, alta luminosidad | Gigantes               |\n",
    "| 2       | Alta temperatura, baja luminosidad  | Enanas blancas         |\n",
    "| 3       | Media-alta temperatura, luminosidad intermedia | Subgigantes |"
   ]
  }
 ],
 "metadata": {
  "kernelspec": {
   "display_name": "Python 3 (ipykernel)",
   "language": "python",
   "name": "python3"
  },
  "language_info": {
   "codemirror_mode": {
    "name": "ipython",
    "version": 3
   },
   "file_extension": ".py",
   "mimetype": "text/x-python",
   "name": "python",
   "nbconvert_exporter": "python",
   "pygments_lexer": "ipython3",
   "version": "3.12.11"
  }
 },
 "nbformat": 4,
 "nbformat_minor": 5
}
