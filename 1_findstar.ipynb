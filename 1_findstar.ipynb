{
  "nbformat": 4,
  "nbformat_minor": 0,
  "metadata": {
    "colab": {
      "provenance": [],
      "mount_file_id": "1GJBmfQtGvIejBETJDJCTI9ge8Wd_QOV9",
      "authorship_tag": "ABX9TyOFgeKLXY3SCpaKRWFJSYbS",
      "include_colab_link": true
    },
    "kernelspec": {
      "name": "python3",
      "display_name": "Python 3"
    },
    "language_info": {
      "name": "python"
    }
  },
  "cells": [
    {
      "cell_type": "markdown",
      "metadata": {
        "id": "view-in-github",
        "colab_type": "text"
      },
      "source": [
        "<a href=\"https://colab.research.google.com/github/ajimper/ProastronomiaAstroWorkshop/blob/main/1_findstar.ipynb\" target=\"_parent\"><img src=\"https://colab.research.google.com/assets/colab-badge.svg\" alt=\"Open In Colab\"/></a>"
      ]
    },
    {
      "cell_type": "markdown",
      "source": [
        "# Introducción a la astroinformática\n",
        "## Problema 1. La comunicación extraterrestre"
      ],
      "metadata": {
        "id": "IdlVXb4XilCM"
      }
    },
    {
      "cell_type": "code",
      "execution_count": null,
      "metadata": {
        "id": "DN3UzG2OfnZn"
      },
      "outputs": [],
      "source": [
        "!pip install astropy"
      ]
    },
    {
      "cell_type": "code",
      "source": [
        "!pip install astroquery"
      ],
      "metadata": {
        "id": "zCbySuy5oWij",
        "colab": {
          "base_uri": "https://localhost:8080/"
        },
        "outputId": "a8f8b9f5-53d0-4203-f8ab-bb3b4ed7a35a"
      },
      "execution_count": null,
      "outputs": [
        {
          "output_type": "stream",
          "name": "stdout",
          "text": [
            "Collecting astroquery\n",
            "  Downloading astroquery-0.4.6-py3-none-any.whl (4.5 MB)\n",
            "\u001b[2K     \u001b[90m━━━━━━━━━━━━━━━━━━━━━━━━━━━━━━━━━━━━━━━━\u001b[0m \u001b[32m4.5/4.5 MB\u001b[0m \u001b[31m13.8 MB/s\u001b[0m eta \u001b[36m0:00:00\u001b[0m\n",
            "\u001b[?25hRequirement already satisfied: numpy>=1.16 in /usr/local/lib/python3.10/dist-packages (from astroquery) (1.25.2)\n",
            "Requirement already satisfied: astropy>=4.0 in /usr/local/lib/python3.10/dist-packages (from astroquery) (5.3.4)\n",
            "Requirement already satisfied: requests>=2.4.3 in /usr/local/lib/python3.10/dist-packages (from astroquery) (2.31.0)\n",
            "Requirement already satisfied: beautifulsoup4>=4.3.2 in /usr/local/lib/python3.10/dist-packages (from astroquery) (4.12.3)\n",
            "Requirement already satisfied: html5lib>=0.999 in /usr/local/lib/python3.10/dist-packages (from astroquery) (1.1)\n",
            "Requirement already satisfied: keyring>=4.0 in /usr/lib/python3/dist-packages (from astroquery) (23.5.0)\n",
            "Collecting pyvo>=1.1 (from astroquery)\n",
            "  Downloading pyvo-1.5-py3-none-any.whl (909 kB)\n",
            "\u001b[2K     \u001b[90m━━━━━━━━━━━━━━━━━━━━━━━━━━━━━━━━━━━━━━━━\u001b[0m \u001b[32m909.7/909.7 kB\u001b[0m \u001b[31m24.8 MB/s\u001b[0m eta \u001b[36m0:00:00\u001b[0m\n",
            "\u001b[?25hRequirement already satisfied: pyerfa>=2.0 in /usr/local/lib/python3.10/dist-packages (from astropy>=4.0->astroquery) (2.0.1.1)\n",
            "Requirement already satisfied: PyYAML>=3.13 in /usr/local/lib/python3.10/dist-packages (from astropy>=4.0->astroquery) (6.0.1)\n",
            "Requirement already satisfied: packaging>=19.0 in /usr/local/lib/python3.10/dist-packages (from astropy>=4.0->astroquery) (23.2)\n",
            "Requirement already satisfied: soupsieve>1.2 in /usr/local/lib/python3.10/dist-packages (from beautifulsoup4>=4.3.2->astroquery) (2.5)\n",
            "Requirement already satisfied: six>=1.9 in /usr/local/lib/python3.10/dist-packages (from html5lib>=0.999->astroquery) (1.16.0)\n",
            "Requirement already satisfied: webencodings in /usr/local/lib/python3.10/dist-packages (from html5lib>=0.999->astroquery) (0.5.1)\n",
            "Requirement already satisfied: charset-normalizer<4,>=2 in /usr/local/lib/python3.10/dist-packages (from requests>=2.4.3->astroquery) (3.3.2)\n",
            "Requirement already satisfied: idna<4,>=2.5 in /usr/local/lib/python3.10/dist-packages (from requests>=2.4.3->astroquery) (3.6)\n",
            "Requirement already satisfied: urllib3<3,>=1.21.1 in /usr/local/lib/python3.10/dist-packages (from requests>=2.4.3->astroquery) (2.0.7)\n",
            "Requirement already satisfied: certifi>=2017.4.17 in /usr/local/lib/python3.10/dist-packages (from requests>=2.4.3->astroquery) (2024.2.2)\n",
            "Installing collected packages: pyvo, astroquery\n",
            "Successfully installed astroquery-0.4.6 pyvo-1.5\n"
          ]
        }
      ]
    },
    {
      "cell_type": "markdown",
      "source": [
        "## 1. El mensaje\n",
        "\n",
        "Aquí tienen un problema para resolver, con todas las herramientas de astrofísica y astrobiología que tengan a mano:\n",
        "\n",
        "Nos transmiten una información confidencial. Se ha detectado una señal con características singulares, que ha sido analizada por otro equipo y diagnosticada como posiblemente producida por una inteligencia extraterrestre. Se requiere validar esta información averiguando todos los datos que se puedan conocer o inferir sobre la posible civilización que habría emitido el mensaje y, de ser necesario, sugerir una estrategia a seguir, que puede incluir la emisión de un mensaje de respuesta.\n",
        "\n",
        "Es necesario formar un equipo de especialistas en las disciplinas necesarias para acometer la tarea con la mayor celeridad. El destino de la humanidad puede estar en juego.\n",
        "\n",
        "> **Coordenadas del origen de la señal:**\n",
        "\n",
        "> Ascensión recta (α): 23 h 06 m 29,283 s\n",
        "\n",
        "> Declinación (δ): –05° 02′ 28,59″\n",
        "\n",
        "De una manera más precisa, usando el marco de referencia ICRS:\n",
        "23 06 29.3684948589 -05 02 29.037301866"
      ],
      "metadata": {
        "id": "NyhXoKyah_lh"
      }
    },
    {
      "cell_type": "markdown",
      "source": [
        "### 1.1 Encuentra la estrella"
      ],
      "metadata": {
        "id": "5pYtWoIZjUfR"
      }
    },
    {
      "cell_type": "markdown",
      "source": [
        "Para resolver este problema de una manera seria, comenzaríamos por introducir estas coordenadas en una base de datos astronómica, para identificar si hay algún objeto conocido de donde proviene la señal.\n",
        "\n",
        "Podemos comenzar probando con la interfaz de usuario del catálogo SIMBAD:\n",
        "https://simbad.u-strasbg.fr/simbad/sim-fcoo\n",
        "\n",
        "Pero lo óptimo es programar un script que resuelva este problema:"
      ],
      "metadata": {
        "id": "sQTzl-QDjnzO"
      }
    },
    {
      "cell_type": "code",
      "source": [
        "# 1. Importar las bibliotecas\n",
        "from astropy.coordinates import SkyCoord\n",
        "import astropy.units as u\n",
        "from astroquery.simbad import Simbad"
      ],
      "metadata": {
        "id": "_0u_jdaxhBc-"
      },
      "execution_count": null,
      "outputs": []
    },
    {
      "cell_type": "code",
      "source": [
        "# 2. Definir las coordenadas del origen del mensaje:\n",
        "# Coordenadas ecuatoriales (ICRS):\n",
        "ra = '23h06m29.3684948589s'\n",
        "dec = '-05d02m29.037301866s'\n",
        "\n",
        "# Crear un objeto SkyCoord con las coordenadas\n",
        "coordinates = SkyCoord(ra=ra, dec=dec, frame='icrs')\n",
        "\n",
        "# Es posible imprimir las coordenadas en diferentes formatos (para comprobar)\n",
        "print(\"Coordenadas en el sistema de referencia ICRS:\")\n",
        "print(coordinates)\n",
        "print(\"\\nCoordenadas en grados decimales:\")\n",
        "print(coordinates.ra.deg, coordinates.dec.deg)"
      ],
      "metadata": {
        "colab": {
          "base_uri": "https://localhost:8080/"
        },
        "id": "7B90lEopynNn",
        "outputId": "58013f59-b9fc-4248-fd8c-514028ef9764"
      },
      "execution_count": null,
      "outputs": [
        {
          "output_type": "stream",
          "name": "stdout",
          "text": [
            "Coordenadas en el sistema de referencia ICRS:\n",
            "<SkyCoord (ICRS): (ra, dec) in deg\n",
            "    (346.62236873, -5.04139925)>\n",
            "\n",
            "coordinates en grados decimales:\n",
            "346.62236872857875 -5.041399250518333\n"
          ]
        }
      ]
    },
    {
      "cell_type": "code",
      "source": [
        "# Consultar SIMBAD con las coordenadas\n",
        "results = Simbad.query_region(coordinates, radius='0d0m0s')\n",
        "\n",
        "# Imprimir los resultados\n",
        "print(results)"
      ],
      "metadata": {
        "colab": {
          "base_uri": "https://localhost:8080/"
        },
        "id": "kerN_gHmzvNP",
        "outputId": "dee7e418-daaf-45e4-ad88-784193855853"
      },
      "execution_count": null,
      "outputs": [
        {
          "output_type": "stream",
          "name": "stdout",
          "text": [
            "  MAIN_ID         RA           DEC      ...     COO_BIBCODE     SCRIPT_NUMBER_ID\n",
            "               \"h:m:s\"       \"d:m:s\"    ...                                     \n",
            "----------- ------------- ------------- ... ------------------- ----------------\n",
            "TRAPPIST-1i 23 06 29.3684 -05 02 29.037 ... 2020yCat.1350....0G                1\n",
            "TRAPPIST-1e 23 06 29.3684 -05 02 29.037 ... 2020yCat.1350....0G                1\n",
            "TRAPPIST-1b 23 06 29.3684 -05 02 29.037 ... 2020yCat.1350....0G                1\n",
            "TRAPPIST-1d 23 06 29.3684 -05 02 29.037 ... 2020yCat.1350....0G                1\n",
            "TRAPPIST-1h 23 06 29.3684 -05 02 29.037 ... 2020yCat.1350....0G                1\n",
            "TRAPPIST-1c 23 06 29.3684 -05 02 29.037 ... 2020yCat.1350....0G                1\n",
            "TRAPPIST-1g 23 06 29.3684 -05 02 29.037 ... 2020yCat.1350....0G                1\n",
            " TRAPPIST-1 23 06 29.3684 -05 02 29.037 ... 2020yCat.1350....0G                1\n",
            "TRAPPIST-1f 23 06 29.3684 -05 02 29.037 ... 2020yCat.1350....0G                1\n"
          ]
        }
      ]
    }
  ]
}
