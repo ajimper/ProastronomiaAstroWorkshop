{
  "cells": [
    {
      "cell_type": "markdown",
      "metadata": {
        "id": "view-in-github",
        "colab_type": "text"
      },
      "source": [
        "<a href=\"https://colab.research.google.com/github/ajimper/ProastronomiaAstroWorkshop/blob/main/HR_Diagram.ipynb\" target=\"_parent\"><img src=\"https://colab.research.google.com/assets/colab-badge.svg\" alt=\"Open In Colab\"/></a>"
      ]
    },
    {
      "cell_type": "code",
      "execution_count": null,
      "id": "2e5f08f1-ae74-4a0d-9d83-f1e178e6adfa",
      "metadata": {
        "id": "2e5f08f1-ae74-4a0d-9d83-f1e178e6adfa"
      },
      "outputs": [],
      "source": [
        "%%capture\n",
        "!pip install astroquery astropy matplotlib numpy"
      ]
    },
    {
      "cell_type": "code",
      "execution_count": null,
      "id": "b4b9ca9b-b2ba-4e21-ba8c-813880ce631d",
      "metadata": {
        "id": "b4b9ca9b-b2ba-4e21-ba8c-813880ce631d"
      },
      "outputs": [],
      "source": [
        "import numpy as np\n",
        "import matplotlib.pyplot as plt\n",
        "from astroquery.vizier import Vizier\n",
        "from astropy import units as u\n",
        "from astropy.table import QTable"
      ]
    },
    {
      "cell_type": "code",
      "execution_count": null,
      "id": "574eea61-1e74-4179-9ddf-33ed69bf3616",
      "metadata": {
        "id": "574eea61-1e74-4179-9ddf-33ed69bf3616"
      },
      "outputs": [],
      "source": [
        "class Star:\n",
        "    def __init__(self, hip, vmag, bv, plx, sptype, name=None):\n",
        "        self.hip = hip\n",
        "        self.name = name\n",
        "        self.vmag = vmag * u.mag\n",
        "        self.bv = bv * u.dimensionless_unscaled\n",
        "        self.plx = plx * u.mas\n",
        "        self.sptype = sptype\n",
        "\n",
        "        self._calculate_parameters()\n",
        "\n",
        "    def _calculate_parameters(self):\n",
        "        # Calcular distancia\n",
        "        #self.distance = (1/self.plx).to(u.pc) if self.plx > 0 else np.nan * u.pc\n",
        "        if (self.plx > 0 ):\n",
        "            self.distance = (self.plx).to(u.parsec, equivalencies=u.parallax())\n",
        "        else\n",
        "            else np.nan * u.parsec\n",
        "\n",
        "        # Calcular magnitud absoluta\n",
        "        self.Mv = self.vmag + 5 * np.log10(self.distance/10 * u.pc)\n",
        "\n",
        "        # Calcular temperatura efectiva (Casagrande et al. 2010)\n",
        "        self.Teff = 9100 * u.K * (self.bv + 0.65)**(-0.66)\n",
        "\n",
        "        # Calcular luminosidad (usando relación bolométrica aproximada)\n",
        "        BC = -0.08 * self.Mv.value**2 + 0.70 * self.Mv.value - 1.37  # Corrección bolométrica\n",
        "        M_bol = self.Mv + BC\n",
        "        self.L = 10**(-0.4 * (M_bol - 4.74)) * u.L_sun\n",
        "\n",
        "    @property\n",
        "    def log_Teff(self):\n",
        "        return np.log10(self.Teff.value)\n",
        "\n",
        "    @property\n",
        "    def log_L_Lsun(self):\n",
        "        return np.log10(self.L.value)"
      ]
    },
    {
      "cell_type": "code",
      "execution_count": null,
      "id": "29d4c4be-d026-4fcc-95ff-960ff62d7821",
      "metadata": {
        "id": "29d4c4be-d026-4fcc-95ff-960ff62d7821"
      },
      "outputs": [],
      "source": [
        "# Consulta al catálogo Hipparcos\n",
        "Vizier.ROW_LIMIT = 200\n",
        "v = Vizier(columns=['HIP', 'Vmag', 'B-V', 'Plx', 'e_Plx', 'SpType', 'VarType', 'RAJ2000', 'DEJ2000'],\n",
        "           column_filters={'B-V': '>0', 'Plx': '>10', 'Vmag': '<6'})\n",
        "catalogs = v.get_catalogs('I/239/hip_main')\n",
        "star_catalogue = catalogs[0].filled()"
      ]
    },
    {
      "cell_type": "code",
      "execution_count": null,
      "id": "36c02d0f-8be7-4163-92f3-9f6e88c68821",
      "metadata": {
        "id": "36c02d0f-8be7-4163-92f3-9f6e88c68821"
      },
      "outputs": [],
      "source": [
        "# Filtrar y crear objetos Star\n",
        "stars = []\n",
        "known_names = {  # Algunos nombres propios conocidos\n",
        "    32349: 'Sirio',\n",
        "    91262: 'Vega',\n",
        "    97649: 'Altair',\n",
        "    24436: 'Betelgeuse',\n",
        "    24608: 'Rigel',\n",
        "    80763: 'Arcturus'\n",
        "}"
      ]
    },
    {
      "cell_type": "code",
      "execution_count": null,
      "id": "72498f78-9b24-4900-9490-624ac49a34ba",
      "metadata": {
        "id": "72498f78-9b24-4900-9490-624ac49a34ba",
        "outputId": "3fb13b48-f325-4e1c-a66b-03256a1382c4",
        "colab": {
          "base_uri": "https://localhost:8080/",
          "height": 464
        }
      },
      "outputs": [
        {
          "output_type": "error",
          "ename": "UnitConversionError",
          "evalue": "'1 / mas' and 'pc' (length) are not convertible",
          "traceback": [
            "\u001b[0;31m---------------------------------------------------------------------------\u001b[0m",
            "\u001b[0;31mUnitConversionError\u001b[0m                       Traceback (most recent call last)",
            "\u001b[0;32m/tmp/ipython-input-3293508030.py\u001b[0m in \u001b[0;36m<cell line: 0>\u001b[0;34m()\u001b[0m\n\u001b[1;32m      2\u001b[0m     \u001b[0;31m#if np.isfinite(row['B-V']) and row['Plx']/row['e_Plx'] > 5:\u001b[0m\u001b[0;34m\u001b[0m\u001b[0;34m\u001b[0m\u001b[0m\n\u001b[1;32m      3\u001b[0m     \u001b[0;32mif\u001b[0m \u001b[0mnp\u001b[0m\u001b[0;34m.\u001b[0m\u001b[0misfinite\u001b[0m\u001b[0;34m(\u001b[0m\u001b[0mrow\u001b[0m\u001b[0;34m[\u001b[0m\u001b[0;34m'B-V'\u001b[0m\u001b[0;34m]\u001b[0m\u001b[0;34m)\u001b[0m\u001b[0;34m:\u001b[0m\u001b[0;34m\u001b[0m\u001b[0;34m\u001b[0m\u001b[0m\n\u001b[0;32m----> 4\u001b[0;31m         star = Star(\n\u001b[0m\u001b[1;32m      5\u001b[0m             \u001b[0mhip\u001b[0m\u001b[0;34m=\u001b[0m\u001b[0mrow\u001b[0m\u001b[0;34m[\u001b[0m\u001b[0;34m'HIP'\u001b[0m\u001b[0;34m]\u001b[0m\u001b[0;34m,\u001b[0m\u001b[0;34m\u001b[0m\u001b[0;34m\u001b[0m\u001b[0m\n\u001b[1;32m      6\u001b[0m             \u001b[0mvmag\u001b[0m\u001b[0;34m=\u001b[0m\u001b[0mrow\u001b[0m\u001b[0;34m[\u001b[0m\u001b[0;34m'Vmag'\u001b[0m\u001b[0;34m]\u001b[0m\u001b[0;34m,\u001b[0m\u001b[0;34m\u001b[0m\u001b[0;34m\u001b[0m\u001b[0m\n",
            "\u001b[0;32m/tmp/ipython-input-762691657.py\u001b[0m in \u001b[0;36m__init__\u001b[0;34m(self, hip, vmag, bv, plx, sptype, name)\u001b[0m\n\u001b[1;32m      8\u001b[0m         \u001b[0mself\u001b[0m\u001b[0;34m.\u001b[0m\u001b[0msptype\u001b[0m \u001b[0;34m=\u001b[0m \u001b[0msptype\u001b[0m\u001b[0;34m\u001b[0m\u001b[0;34m\u001b[0m\u001b[0m\n\u001b[1;32m      9\u001b[0m \u001b[0;34m\u001b[0m\u001b[0m\n\u001b[0;32m---> 10\u001b[0;31m         \u001b[0mself\u001b[0m\u001b[0;34m.\u001b[0m\u001b[0m_calculate_parameters\u001b[0m\u001b[0;34m(\u001b[0m\u001b[0;34m)\u001b[0m\u001b[0;34m\u001b[0m\u001b[0;34m\u001b[0m\u001b[0m\n\u001b[0m\u001b[1;32m     11\u001b[0m \u001b[0;34m\u001b[0m\u001b[0m\n\u001b[1;32m     12\u001b[0m     \u001b[0;32mdef\u001b[0m \u001b[0m_calculate_parameters\u001b[0m\u001b[0;34m(\u001b[0m\u001b[0mself\u001b[0m\u001b[0;34m)\u001b[0m\u001b[0;34m:\u001b[0m\u001b[0;34m\u001b[0m\u001b[0;34m\u001b[0m\u001b[0m\n",
            "\u001b[0;32m/tmp/ipython-input-762691657.py\u001b[0m in \u001b[0;36m_calculate_parameters\u001b[0;34m(self)\u001b[0m\n\u001b[1;32m     12\u001b[0m     \u001b[0;32mdef\u001b[0m \u001b[0m_calculate_parameters\u001b[0m\u001b[0;34m(\u001b[0m\u001b[0mself\u001b[0m\u001b[0;34m)\u001b[0m\u001b[0;34m:\u001b[0m\u001b[0;34m\u001b[0m\u001b[0;34m\u001b[0m\u001b[0m\n\u001b[1;32m     13\u001b[0m         \u001b[0;31m# Calcular distancia\u001b[0m\u001b[0;34m\u001b[0m\u001b[0;34m\u001b[0m\u001b[0m\n\u001b[0;32m---> 14\u001b[0;31m         \u001b[0mself\u001b[0m\u001b[0;34m.\u001b[0m\u001b[0mdistance\u001b[0m \u001b[0;34m=\u001b[0m \u001b[0;34m(\u001b[0m\u001b[0;36m1\u001b[0m\u001b[0;34m/\u001b[0m\u001b[0mself\u001b[0m\u001b[0;34m.\u001b[0m\u001b[0mplx\u001b[0m\u001b[0;34m)\u001b[0m\u001b[0;34m.\u001b[0m\u001b[0mto\u001b[0m\u001b[0;34m(\u001b[0m\u001b[0mu\u001b[0m\u001b[0;34m.\u001b[0m\u001b[0mpc\u001b[0m\u001b[0;34m)\u001b[0m \u001b[0;32mif\u001b[0m \u001b[0mself\u001b[0m\u001b[0;34m.\u001b[0m\u001b[0mplx\u001b[0m \u001b[0;34m>\u001b[0m \u001b[0;36m0\u001b[0m \u001b[0;32melse\u001b[0m \u001b[0mnp\u001b[0m\u001b[0;34m.\u001b[0m\u001b[0mnan\u001b[0m \u001b[0;34m*\u001b[0m \u001b[0mu\u001b[0m\u001b[0;34m.\u001b[0m\u001b[0mpc\u001b[0m\u001b[0;34m\u001b[0m\u001b[0;34m\u001b[0m\u001b[0m\n\u001b[0m\u001b[1;32m     15\u001b[0m \u001b[0;34m\u001b[0m\u001b[0m\n\u001b[1;32m     16\u001b[0m         \u001b[0;31m# Calcular magnitud absoluta\u001b[0m\u001b[0;34m\u001b[0m\u001b[0;34m\u001b[0m\u001b[0m\n",
            "\u001b[0;32m/usr/local/lib/python3.11/dist-packages/astropy/units/quantity.py\u001b[0m in \u001b[0;36mto\u001b[0;34m(self, unit, equivalencies, copy)\u001b[0m\n\u001b[1;32m    929\u001b[0m             \u001b[0;31m# Avoid using to_value to ensure that we make a copy. We also\u001b[0m\u001b[0;34m\u001b[0m\u001b[0;34m\u001b[0m\u001b[0m\n\u001b[1;32m    930\u001b[0m             \u001b[0;31m# don't want to slow down this method (esp. the scalar case).\u001b[0m\u001b[0;34m\u001b[0m\u001b[0;34m\u001b[0m\u001b[0m\n\u001b[0;32m--> 931\u001b[0;31m             \u001b[0mvalue\u001b[0m \u001b[0;34m=\u001b[0m \u001b[0mself\u001b[0m\u001b[0;34m.\u001b[0m\u001b[0m_to_value\u001b[0m\u001b[0;34m(\u001b[0m\u001b[0munit\u001b[0m\u001b[0;34m,\u001b[0m \u001b[0mequivalencies\u001b[0m\u001b[0;34m)\u001b[0m\u001b[0;34m\u001b[0m\u001b[0;34m\u001b[0m\u001b[0m\n\u001b[0m\u001b[1;32m    932\u001b[0m         \u001b[0;32melse\u001b[0m\u001b[0;34m:\u001b[0m\u001b[0;34m\u001b[0m\u001b[0;34m\u001b[0m\u001b[0m\n\u001b[1;32m    933\u001b[0m             \u001b[0;31m# to_value only copies if necessary\u001b[0m\u001b[0;34m\u001b[0m\u001b[0;34m\u001b[0m\u001b[0m\n",
            "\u001b[0;32m/usr/local/lib/python3.11/dist-packages/astropy/units/quantity.py\u001b[0m in \u001b[0;36m_to_value\u001b[0;34m(self, unit, equivalencies)\u001b[0m\n\u001b[1;32m    882\u001b[0m         \u001b[0;32mif\u001b[0m \u001b[0;32mnot\u001b[0m \u001b[0mself\u001b[0m\u001b[0;34m.\u001b[0m\u001b[0mdtype\u001b[0m\u001b[0;34m.\u001b[0m\u001b[0mnames\u001b[0m \u001b[0;32mor\u001b[0m \u001b[0misinstance\u001b[0m\u001b[0;34m(\u001b[0m\u001b[0mself\u001b[0m\u001b[0;34m.\u001b[0m\u001b[0munit\u001b[0m\u001b[0;34m,\u001b[0m \u001b[0mStructuredUnit\u001b[0m\u001b[0;34m)\u001b[0m\u001b[0;34m:\u001b[0m\u001b[0;34m\u001b[0m\u001b[0;34m\u001b[0m\u001b[0m\n\u001b[1;32m    883\u001b[0m             \u001b[0;31m# Standard path, let unit to do work.\u001b[0m\u001b[0;34m\u001b[0m\u001b[0;34m\u001b[0m\u001b[0m\n\u001b[0;32m--> 884\u001b[0;31m             return self.unit.to(\n\u001b[0m\u001b[1;32m    885\u001b[0m                 \u001b[0munit\u001b[0m\u001b[0;34m,\u001b[0m \u001b[0mself\u001b[0m\u001b[0;34m.\u001b[0m\u001b[0mview\u001b[0m\u001b[0;34m(\u001b[0m\u001b[0mnp\u001b[0m\u001b[0;34m.\u001b[0m\u001b[0mndarray\u001b[0m\u001b[0;34m)\u001b[0m\u001b[0;34m,\u001b[0m \u001b[0mequivalencies\u001b[0m\u001b[0;34m=\u001b[0m\u001b[0mequivalencies\u001b[0m\u001b[0;34m\u001b[0m\u001b[0;34m\u001b[0m\u001b[0m\n\u001b[1;32m    886\u001b[0m             )\n",
            "\u001b[0;32m/usr/local/lib/python3.11/dist-packages/astropy/units/core.py\u001b[0m in \u001b[0;36mto\u001b[0;34m(self, other, value, equivalencies)\u001b[0m\n\u001b[1;32m   1206\u001b[0m             \u001b[0;32mreturn\u001b[0m \u001b[0mUNITY\u001b[0m\u001b[0;34m\u001b[0m\u001b[0;34m\u001b[0m\u001b[0m\n\u001b[1;32m   1207\u001b[0m         \u001b[0;32melse\u001b[0m\u001b[0;34m:\u001b[0m\u001b[0;34m\u001b[0m\u001b[0;34m\u001b[0m\u001b[0m\n\u001b[0;32m-> 1208\u001b[0;31m             \u001b[0;32mreturn\u001b[0m \u001b[0mself\u001b[0m\u001b[0;34m.\u001b[0m\u001b[0mget_converter\u001b[0m\u001b[0;34m(\u001b[0m\u001b[0mUnit\u001b[0m\u001b[0;34m(\u001b[0m\u001b[0mother\u001b[0m\u001b[0;34m)\u001b[0m\u001b[0;34m,\u001b[0m \u001b[0mequivalencies\u001b[0m\u001b[0;34m)\u001b[0m\u001b[0;34m(\u001b[0m\u001b[0mvalue\u001b[0m\u001b[0;34m)\u001b[0m\u001b[0;34m\u001b[0m\u001b[0;34m\u001b[0m\u001b[0m\n\u001b[0m\u001b[1;32m   1209\u001b[0m \u001b[0;34m\u001b[0m\u001b[0m\n\u001b[1;32m   1210\u001b[0m     \u001b[0;34m@\u001b[0m\u001b[0mdeprecated\u001b[0m\u001b[0;34m(\u001b[0m\u001b[0msince\u001b[0m\u001b[0;34m=\u001b[0m\u001b[0;34m\"7.0\"\u001b[0m\u001b[0;34m,\u001b[0m \u001b[0malternative\u001b[0m\u001b[0;34m=\u001b[0m\u001b[0;34m\"to()\"\u001b[0m\u001b[0;34m)\u001b[0m\u001b[0;34m\u001b[0m\u001b[0;34m\u001b[0m\u001b[0m\n",
            "\u001b[0;32m/usr/local/lib/python3.11/dist-packages/astropy/units/core.py\u001b[0m in \u001b[0;36mget_converter\u001b[0;34m(self, other, equivalencies)\u001b[0m\n\u001b[1;32m   1135\u001b[0m                             \u001b[0;32mreturn\u001b[0m \u001b[0;32mlambda\u001b[0m \u001b[0mv\u001b[0m\u001b[0;34m:\u001b[0m \u001b[0mb\u001b[0m\u001b[0;34m(\u001b[0m\u001b[0mconverter\u001b[0m\u001b[0;34m(\u001b[0m\u001b[0mv\u001b[0m\u001b[0;34m)\u001b[0m\u001b[0;34m)\u001b[0m\u001b[0;34m\u001b[0m\u001b[0;34m\u001b[0m\u001b[0m\n\u001b[1;32m   1136\u001b[0m \u001b[0;34m\u001b[0m\u001b[0m\n\u001b[0;32m-> 1137\u001b[0;31m             \u001b[0;32mraise\u001b[0m \u001b[0mexc\u001b[0m\u001b[0;34m\u001b[0m\u001b[0;34m\u001b[0m\u001b[0m\n\u001b[0m\u001b[1;32m   1138\u001b[0m \u001b[0;34m\u001b[0m\u001b[0m\n\u001b[1;32m   1139\u001b[0m     \u001b[0;32mdef\u001b[0m \u001b[0m_to\u001b[0m\u001b[0;34m(\u001b[0m\u001b[0mself\u001b[0m\u001b[0;34m,\u001b[0m \u001b[0mother\u001b[0m\u001b[0;34m:\u001b[0m \u001b[0mUnitBase\u001b[0m\u001b[0;34m)\u001b[0m \u001b[0;34m->\u001b[0m \u001b[0mUnitScale\u001b[0m\u001b[0;34m:\u001b[0m\u001b[0;34m\u001b[0m\u001b[0;34m\u001b[0m\u001b[0m\n",
            "\u001b[0;32m/usr/local/lib/python3.11/dist-packages/astropy/units/core.py\u001b[0m in \u001b[0;36mget_converter\u001b[0;34m(self, other, equivalencies)\u001b[0m\n\u001b[1;32m   1118\u001b[0m         \u001b[0;31m# if that doesn't work, maybe we can do it with equivalencies?\u001b[0m\u001b[0;34m\u001b[0m\u001b[0;34m\u001b[0m\u001b[0m\n\u001b[1;32m   1119\u001b[0m         \u001b[0;32mtry\u001b[0m\u001b[0;34m:\u001b[0m\u001b[0;34m\u001b[0m\u001b[0;34m\u001b[0m\u001b[0m\n\u001b[0;32m-> 1120\u001b[0;31m             return self._apply_equivalencies(\n\u001b[0m\u001b[1;32m   1121\u001b[0m                 \u001b[0mself\u001b[0m\u001b[0;34m,\u001b[0m \u001b[0mother\u001b[0m\u001b[0;34m,\u001b[0m \u001b[0mself\u001b[0m\u001b[0;34m.\u001b[0m\u001b[0m_normalize_equivalencies\u001b[0m\u001b[0;34m(\u001b[0m\u001b[0mequivalencies\u001b[0m\u001b[0;34m)\u001b[0m\u001b[0;34m\u001b[0m\u001b[0;34m\u001b[0m\u001b[0m\n\u001b[1;32m   1122\u001b[0m             )\n",
            "\u001b[0;32m/usr/local/lib/python3.11/dist-packages/astropy/units/core.py\u001b[0m in \u001b[0;36m_apply_equivalencies\u001b[0;34m(self, unit, other, equivalencies)\u001b[0m\n\u001b[1;32m   1069\u001b[0m         \u001b[0mother_str\u001b[0m \u001b[0;34m=\u001b[0m \u001b[0mget_err_str\u001b[0m\u001b[0;34m(\u001b[0m\u001b[0mother\u001b[0m\u001b[0;34m)\u001b[0m\u001b[0;34m\u001b[0m\u001b[0;34m\u001b[0m\u001b[0m\n\u001b[1;32m   1070\u001b[0m \u001b[0;34m\u001b[0m\u001b[0m\n\u001b[0;32m-> 1071\u001b[0;31m         \u001b[0;32mraise\u001b[0m \u001b[0mUnitConversionError\u001b[0m\u001b[0;34m(\u001b[0m\u001b[0;34mf\"{unit_str} and {other_str} are not convertible\"\u001b[0m\u001b[0;34m)\u001b[0m\u001b[0;34m\u001b[0m\u001b[0;34m\u001b[0m\u001b[0m\n\u001b[0m\u001b[1;32m   1072\u001b[0m \u001b[0;34m\u001b[0m\u001b[0m\n\u001b[1;32m   1073\u001b[0m     \u001b[0;32mdef\u001b[0m \u001b[0mget_converter\u001b[0m\u001b[0;34m(\u001b[0m\u001b[0mself\u001b[0m\u001b[0;34m,\u001b[0m \u001b[0mother\u001b[0m\u001b[0;34m,\u001b[0m \u001b[0mequivalencies\u001b[0m\u001b[0;34m=\u001b[0m\u001b[0;34m[\u001b[0m\u001b[0;34m]\u001b[0m\u001b[0;34m)\u001b[0m\u001b[0;34m:\u001b[0m\u001b[0;34m\u001b[0m\u001b[0;34m\u001b[0m\u001b[0m\n",
            "\u001b[0;31mUnitConversionError\u001b[0m: '1 / mas' and 'pc' (length) are not convertible"
          ]
        }
      ],
      "source": [
        "for row in star_catalogue:\n",
        "    #if np.isfinite(row['B-V']) and row['Plx']/row['e_Plx'] > 5:\n",
        "    if np.isfinite(row['B-V']):\n",
        "        star = Star(\n",
        "            hip=row['HIP'],\n",
        "            vmag=row['Vmag'],\n",
        "            bv=row['B-V'],\n",
        "            plx=row['Plx'],\n",
        "            sptype=row['SpType'],\n",
        "            name=known_names.get(row['HIP'])\n",
        "        )\n",
        "        stars.append(star)"
      ]
    },
    {
      "cell_type": "code",
      "execution_count": null,
      "id": "46638a9e-4273-4923-b2bd-420048339d28",
      "metadata": {
        "id": "46638a9e-4273-4923-b2bd-420048339d28"
      },
      "outputs": [],
      "source": [
        "# Crear QTable con resultados\n",
        "table = QTable()\n",
        "table['HIP'] = [s.hip for s in stars]\n",
        "table['Nombre'] = [s.name if s.name else f'HIP {s.hip}' for s in stars]\n",
        "table['log_Teff'] = [s.log_Teff for s in stars] * u.dimensionless_unscaled\n",
        "table['log_L_Lsun'] = [s.log_L_Lsun for s in stars] * u.dimensionless_unscaled\n",
        "table['B-V'] = [s.bv.value for s in stars] * u.dimensionless_unscaled"
      ]
    },
    {
      "cell_type": "code",
      "execution_count": null,
      "id": "f1e06d72-4e54-4593-a120-d252ba059347",
      "metadata": {
        "id": "f1e06d72-4e54-4593-a120-d252ba059347"
      },
      "outputs": [],
      "source": [
        "# Configurar el gráfico\n",
        "plt.figure(figsize=(14, 10), facecolor='black')\n",
        "ax = plt.gca()\n",
        "ax.set_facecolor('black')"
      ]
    },
    {
      "cell_type": "code",
      "execution_count": null,
      "id": "ccbf90e7-6758-49ef-86f3-69905ff25894",
      "metadata": {
        "id": "ccbf90e7-6758-49ef-86f3-69905ff25894"
      },
      "outputs": [],
      "source": [
        "# Crear fondo con gradación de colores\n",
        "x = np.linspace(3.4, 4.0, 100)\n",
        "y = np.linspace(-6, 6, 100)\n",
        "X, Y = np.meshgrid(x, y)\n",
        "Z = X  # Usamos la temperatura para el color\n",
        "plt.pcolormesh(X, Y, Z, cmap='plasma', alpha=0.2, shading='auto')"
      ]
    },
    {
      "cell_type": "code",
      "execution_count": null,
      "id": "bce5702e-6a93-4689-b747-88e4a9235752",
      "metadata": {
        "id": "bce5702e-6a93-4689-b747-88e4a9235752"
      },
      "outputs": [],
      "source": [
        "# Graficar estrellas\n",
        "sc = plt.scatter(\n",
        "    table['log_Teff'],\n",
        "    table['log_L_Lsun'],\n",
        "    c=table['B-V'],\n",
        "    cmap='viridis',\n",
        "    s=150,\n",
        "    edgecolor='white',\n",
        "    alpha=0.9\n",
        ")"
      ]
    },
    {
      "cell_type": "code",
      "execution_count": null,
      "id": "e4cba4e3-a100-4013-be56-9ea9fa093e61",
      "metadata": {
        "id": "e4cba4e3-a100-4013-be56-9ea9fa093e61"
      },
      "outputs": [],
      "source": [
        "# Añadir etiquetas de nombres\n",
        "for star in stars:\n",
        "    if star.name:\n",
        "        plt.text(\n",
        "            star.log_Teff + 0.005,\n",
        "            star.log_L_Lsun,\n",
        "            star.name,\n",
        "            color='white',\n",
        "            fontsize=9,\n",
        "            ha='left',\n",
        "            va='center'\n",
        "        )"
      ]
    },
    {
      "cell_type": "code",
      "execution_count": null,
      "id": "bacf1754-03df-4394-8afb-fb7088fc567d",
      "metadata": {
        "id": "bacf1754-03df-4394-8afb-fb7088fc567d"
      },
      "outputs": [],
      "source": [
        "# Configuraciones estéticas\n",
        "plt.colorbar(sc, label='Índice de color B-V', pad=0.02)\n",
        "plt.gca().invert_xaxis()\n",
        "plt.title('Diagrama Hertzsprung-Russell\\nlog(T$_{eff}$) vs log(L/L$_\\odot$)',\n",
        "         color='white', fontsize=14, pad=20)\n",
        "plt.xlabel('log(T$_{eff}$) [K]', color='white')\n",
        "plt.ylabel('log(L/L$_\\odot$)', color='white')\n",
        "plt.xticks(color='white')\n",
        "plt.yticks(color='white')"
      ]
    },
    {
      "cell_type": "code",
      "execution_count": null,
      "id": "39013f98-b576-4c1b-bc72-780141b54326",
      "metadata": {
        "id": "39013f98-b576-4c1b-bc72-780141b54326"
      },
      "outputs": [],
      "source": [
        "# Añadir líneas de referencia\n",
        "plt.axhline(0, color='gray', linestyle='--', alpha=0.5)\n",
        "plt.axvline(3.7, color='gray', linestyle='--', alpha=0.5)"
      ]
    },
    {
      "cell_type": "code",
      "execution_count": null,
      "id": "5a974733-fcab-44ae-866f-de691a3dd801",
      "metadata": {
        "id": "5a974733-fcab-44ae-866f-de691a3dd801"
      },
      "outputs": [],
      "source": [
        "# Mostrar gráfico\n",
        "plt.tight_layout()\n",
        "plt.show()"
      ]
    }
  ],
  "metadata": {
    "jupytext": {
      "formats": "py:percent,ipynb"
    },
    "kernelspec": {
      "display_name": "Python 3 (ipykernel)",
      "language": "python",
      "name": "python3"
    },
    "language_info": {
      "codemirror_mode": {
        "name": "ipython",
        "version": 3
      },
      "file_extension": ".py",
      "mimetype": "text/x-python",
      "name": "python",
      "nbconvert_exporter": "python",
      "pygments_lexer": "ipython3",
      "version": "3.12.11"
    },
    "colab": {
      "provenance": [],
      "include_colab_link": true
    }
  },
  "nbformat": 4,
  "nbformat_minor": 5
}