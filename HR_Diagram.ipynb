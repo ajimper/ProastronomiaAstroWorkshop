{
 "cells": [
  {
   "cell_type": "code",
   "execution_count": null,
   "id": "2e5f08f1-ae74-4a0d-9d83-f1e178e6adfa",
   "metadata": {},
   "outputs": [],
   "source": [
    "%%capture\n",
    "!pip install astroquery astropy matplotlib numpy"
   ]
  },
  {
   "cell_type": "code",
   "execution_count": null,
   "id": "b4b9ca9b-b2ba-4e21-ba8c-813880ce631d",
   "metadata": {},
   "outputs": [],
   "source": [
    "import numpy as np\n",
    "import matplotlib.pyplot as plt\n",
    "from astroquery.vizier import Vizier\n",
    "from astropy import units as u\n",
    "from astropy.table import QTable"
   ]
  },
  {
   "cell_type": "code",
   "execution_count": null,
   "id": "574eea61-1e74-4179-9ddf-33ed69bf3616",
   "metadata": {},
   "outputs": [],
   "source": [
    "class Star:\n",
    "    def __init__(self, hip, vmag, bv, plx, sptype, name=None):\n",
    "        self.hip = hip\n",
    "        self.name = name\n",
    "        self.vmag = vmag * u.mag\n",
    "        self.bv = bv * u.dimensionless_unscaled\n",
    "        self.plx = plx * u.mas\n",
    "        self.sptype = sptype\n",
    "        \n",
    "        self._calculate_parameters()\n",
    "    \n",
    "    def _calculate_parameters(self):\n",
    "        # Calcular distancia\n",
    "        self.distance = (1/self.plx).to(u.pc) if self.plx > 0 else np.nan * u.pc\n",
    "        \n",
    "        # Calcular magnitud absoluta\n",
    "        self.Mv = self.vmag + 5 * np.log10(self.distance/10 * u.pc)\n",
    "        \n",
    "        # Calcular temperatura efectiva (Casagrande et al. 2010)\n",
    "        self.Teff = 9100 * u.K * (self.bv + 0.65)**(-0.66)\n",
    "        \n",
    "        # Calcular luminosidad (usando relación bolométrica aproximada)\n",
    "        BC = -0.08 * self.Mv.value**2 + 0.70 * self.Mv.value - 1.37  # Corrección bolométrica\n",
    "        M_bol = self.Mv + BC\n",
    "        self.L = 10**(-0.4 * (M_bol - 4.74)) * u.L_sun\n",
    "    \n",
    "    @property\n",
    "    def log_Teff(self):\n",
    "        return np.log10(self.Teff.value)\n",
    "    \n",
    "    @property\n",
    "    def log_L_Lsun(self):\n",
    "        return np.log10(self.L.value)"
   ]
  },
  {
   "cell_type": "code",
   "execution_count": null,
   "id": "29d4c4be-d026-4fcc-95ff-960ff62d7821",
   "metadata": {},
   "outputs": [],
   "source": [
    "# Consulta al catálogo Hipparcos\n",
    "Vizier.ROW_LIMIT = 200\n",
    "v = Vizier(columns=['HIP', 'Vmag', 'B-V', 'Plx', 'SpType', 'VarType', 'RAJ2000', 'DEJ2000'],\n",
    "           column_filters={'B-V': '>0', 'Plx': '>10', 'Vmag': '<6'})\n",
    "catalogs = v.get_catalogs('I/239/hip_main')\n",
    "star_catalogue = catalogs[0].filled()"
   ]
  },
  {
   "cell_type": "code",
   "execution_count": null,
   "id": "36c02d0f-8be7-4163-92f3-9f6e88c68821",
   "metadata": {},
   "outputs": [],
   "source": [
    "# Filtrar y crear objetos Star\n",
    "stars = []\n",
    "known_names = {  # Algunos nombres propios conocidos\n",
    "    32349: 'Sirio',\n",
    "    91262: 'Vega',\n",
    "    97649: 'Altair',\n",
    "    24436: 'Betelgeuse',\n",
    "    24608: 'Rigel',\n",
    "    80763: 'Arcturus'\n",
    "}"
   ]
  },
  {
   "cell_type": "code",
   "execution_count": null,
   "id": "72498f78-9b24-4900-9490-624ac49a34ba",
   "metadata": {},
   "outputs": [],
   "source": [
    "for row in star_catalogue:\n",
    "    if np.isfinite(row['B-V']) and row['Plx']/row['e_Plx'] > 5:\n",
    "        star = Star(\n",
    "            hip=row['HIP'],\n",
    "            vmag=row['Vmag'],\n",
    "            bv=row['B-V'],\n",
    "            plx=row['Plx'],\n",
    "            sptype=row['SpType'],\n",
    "            name=known_names.get(row['HIP'])\n",
    "        )\n",
    "        stars.append(star)"
   ]
  },
  {
   "cell_type": "code",
   "execution_count": null,
   "id": "46638a9e-4273-4923-b2bd-420048339d28",
   "metadata": {},
   "outputs": [],
   "source": [
    "# Crear QTable con resultados\n",
    "table = QTable()\n",
    "table['HIP'] = [s.hip for s in stars]\n",
    "table['Nombre'] = [s.name if s.name else f'HIP {s.hip}' for s in stars]\n",
    "table['log_Teff'] = [s.log_Teff for s in stars] * u.dimensionless_unscaled\n",
    "table['log_L_Lsun'] = [s.log_L_Lsun for s in stars] * u.dimensionless_unscaled\n",
    "table['B-V'] = [s.bv.value for s in stars] * u.dimensionless_unscaled"
   ]
  },
  {
   "cell_type": "code",
   "execution_count": null,
   "id": "f1e06d72-4e54-4593-a120-d252ba059347",
   "metadata": {},
   "outputs": [],
   "source": [
    "# Configurar el gráfico\n",
    "plt.figure(figsize=(14, 10), facecolor='black')\n",
    "ax = plt.gca()\n",
    "ax.set_facecolor('black')"
   ]
  },
  {
   "cell_type": "code",
   "execution_count": null,
   "id": "ccbf90e7-6758-49ef-86f3-69905ff25894",
   "metadata": {},
   "outputs": [],
   "source": [
    "# Crear fondo con gradación de colores\n",
    "x = np.linspace(3.4, 4.0, 100)\n",
    "y = np.linspace(-6, 6, 100)\n",
    "X, Y = np.meshgrid(x, y)\n",
    "Z = X  # Usamos la temperatura para el color\n",
    "plt.pcolormesh(X, Y, Z, cmap='plasma', alpha=0.2, shading='auto')"
   ]
  },
  {
   "cell_type": "code",
   "execution_count": null,
   "id": "bce5702e-6a93-4689-b747-88e4a9235752",
   "metadata": {},
   "outputs": [],
   "source": [
    "# Graficar estrellas\n",
    "sc = plt.scatter(\n",
    "    table['log_Teff'],\n",
    "    table['log_L_Lsun'],\n",
    "    c=table['B-V'],\n",
    "    cmap='viridis',\n",
    "    s=150,\n",
    "    edgecolor='white',\n",
    "    alpha=0.9\n",
    ")"
   ]
  },
  {
   "cell_type": "code",
   "execution_count": null,
   "id": "e4cba4e3-a100-4013-be56-9ea9fa093e61",
   "metadata": {},
   "outputs": [],
   "source": [
    "# Añadir etiquetas de nombres\n",
    "for star in stars:\n",
    "    if star.name:\n",
    "        plt.text(\n",
    "            star.log_Teff + 0.005,\n",
    "            star.log_L_Lsun,\n",
    "            star.name,\n",
    "            color='white',\n",
    "            fontsize=9,\n",
    "            ha='left',\n",
    "            va='center'\n",
    "        )"
   ]
  },
  {
   "cell_type": "code",
   "execution_count": null,
   "id": "bacf1754-03df-4394-8afb-fb7088fc567d",
   "metadata": {},
   "outputs": [],
   "source": [
    "# Configuraciones estéticas\n",
    "plt.colorbar(sc, label='Índice de color B-V', pad=0.02)\n",
    "plt.gca().invert_xaxis()\n",
    "plt.title('Diagrama Hertzsprung-Russell\\nlog(T$_{eff}$) vs log(L/L$_\\odot$)', \n",
    "         color='white', fontsize=14, pad=20)\n",
    "plt.xlabel('log(T$_{eff}$) [K]', color='white')\n",
    "plt.ylabel('log(L/L$_\\odot$)', color='white')\n",
    "plt.xticks(color='white')\n",
    "plt.yticks(color='white')"
   ]
  },
  {
   "cell_type": "code",
   "execution_count": null,
   "id": "39013f98-b576-4c1b-bc72-780141b54326",
   "metadata": {},
   "outputs": [],
   "source": [
    "# Añadir líneas de referencia\n",
    "plt.axhline(0, color='gray', linestyle='--', alpha=0.5)\n",
    "plt.axvline(3.7, color='gray', linestyle='--', alpha=0.5)"
   ]
  },
  {
   "cell_type": "code",
   "execution_count": null,
   "id": "5a974733-fcab-44ae-866f-de691a3dd801",
   "metadata": {},
   "outputs": [],
   "source": [
    "# Mostrar gráfico\n",
    "plt.tight_layout()\n",
    "plt.show()"
   ]
  }
 ],
 "metadata": {
  "jupytext": {
   "formats": "py:percent,ipynb"
  },
  "kernelspec": {
   "display_name": "Python 3 (ipykernel)",
   "language": "python",
   "name": "python3"
  },
  "language_info": {
   "codemirror_mode": {
    "name": "ipython",
    "version": 3
   },
   "file_extension": ".py",
   "mimetype": "text/x-python",
   "name": "python",
   "nbconvert_exporter": "python",
   "pygments_lexer": "ipython3",
   "version": "3.12.11"
  }
 },
 "nbformat": 4,
 "nbformat_minor": 5
}
