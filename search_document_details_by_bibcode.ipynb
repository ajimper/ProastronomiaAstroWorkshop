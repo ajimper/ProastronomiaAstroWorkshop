{
  "nbformat": 4,
  "nbformat_minor": 0,
  "metadata": {
    "colab": {
      "provenance": [],
      "authorship_tag": "ABX9TyPwRrI2veek0We3/hHRTSri",
      "include_colab_link": true
    },
    "kernelspec": {
      "name": "python3",
      "display_name": "Python 3"
    },
    "language_info": {
      "name": "python"
    }
  },
  "cells": [
    {
      "cell_type": "markdown",
      "metadata": {
        "id": "view-in-github",
        "colab_type": "text"
      },
      "source": [
        "<a href=\"https://colab.research.google.com/github/ajimper/ProastronomiaAstroWorkshop/blob/main/search_document_details_by_bibcode.ipynb\" target=\"_parent\"><img src=\"https://colab.research.google.com/assets/colab-badge.svg\" alt=\"Open In Colab\"/></a>"
      ]
    },
    {
      "cell_type": "markdown",
      "source": [
        "# ¿Como determinar los detalles de una entrada bibliográfica codificada con un BIBCODE en el ADS?"
      ],
      "metadata": {
        "id": "31WbrOb0P8tD"
      }
    },
    {
      "cell_type": "code",
      "execution_count": 5,
      "metadata": {
        "colab": {
          "base_uri": "https://localhost:8080/"
        },
        "id": "b7Joo4-LPpzX",
        "outputId": "ebd275ca-8eec-4177-e1e1-f55d57017b12"
      },
      "outputs": [
        {
          "output_type": "stream",
          "name": "stdout",
          "text": [
            "Collecting ads\n",
            "  Downloading ads-0.12.4.tar.gz (36 kB)\n",
            "  Preparing metadata (setup.py) ... \u001b[?25l\u001b[?25hdone\n",
            "Requirement already satisfied: six in /usr/local/lib/python3.10/dist-packages (from ads) (1.16.0)\n",
            "Requirement already satisfied: requests in /usr/local/lib/python3.10/dist-packages (from ads) (2.31.0)\n",
            "Collecting httpretty>=0.8.10 (from ads)\n",
            "  Downloading httpretty-1.1.4.tar.gz (442 kB)\n",
            "\u001b[2K     \u001b[90m━━━━━━━━━━━━━━━━━━━━━━━━━━━━━━━━━━━━━━━━\u001b[0m \u001b[32m442.4/442.4 kB\u001b[0m \u001b[31m17.2 MB/s\u001b[0m eta \u001b[36m0:00:00\u001b[0m\n",
            "\u001b[?25h  Preparing metadata (setup.py) ... \u001b[?25l\u001b[?25hdone\n",
            "Requirement already satisfied: werkzeug in /usr/local/lib/python3.10/dist-packages (from ads) (3.0.1)\n",
            "Collecting mock (from ads)\n",
            "  Downloading mock-5.1.0-py3-none-any.whl (30 kB)\n",
            "Requirement already satisfied: charset-normalizer<4,>=2 in /usr/local/lib/python3.10/dist-packages (from requests->ads) (3.3.2)\n",
            "Requirement already satisfied: idna<4,>=2.5 in /usr/local/lib/python3.10/dist-packages (from requests->ads) (3.6)\n",
            "Requirement already satisfied: urllib3<3,>=1.21.1 in /usr/local/lib/python3.10/dist-packages (from requests->ads) (2.0.7)\n",
            "Requirement already satisfied: certifi>=2017.4.17 in /usr/local/lib/python3.10/dist-packages (from requests->ads) (2024.2.2)\n",
            "Requirement already satisfied: MarkupSafe>=2.1.1 in /usr/local/lib/python3.10/dist-packages (from werkzeug->ads) (2.1.5)\n",
            "Building wheels for collected packages: ads, httpretty\n",
            "  Building wheel for ads (setup.py) ... \u001b[?25l\u001b[?25hdone\n",
            "  Created wheel for ads: filename=ads-0.12.4-py3-none-any.whl size=40809 sha256=e862c79006f51b4b331368ca2e47625c80ef095055658b2b9d6331522a8f7ab2\n",
            "  Stored in directory: /root/.cache/pip/wheels/00/8f/82/8ea0a739ac391795d9ebc39e935b214a9ba94de35d5d76cc79\n",
            "  Building wheel for httpretty (setup.py) ... \u001b[?25l\u001b[?25hdone\n",
            "  Created wheel for httpretty: filename=httpretty-1.1.4-py3-none-any.whl size=28791 sha256=e478075d2d5da29acc74ce0d1364deed38ebb77450a817acf5431c602c7020b4\n",
            "  Stored in directory: /root/.cache/pip/wheels/17/84/74/456da302b40f8d81976edc741ba0a04bf64fd4bb3c58aca9fb\n",
            "Successfully built ads httpretty\n",
            "Installing collected packages: mock, httpretty, ads\n",
            "Successfully installed ads-0.12.4 httpretty-1.1.4 mock-5.1.0\n"
          ]
        }
      ],
      "source": [
        "!pip install ads"
      ]
    },
    {
      "cell_type": "code",
      "source": [
        "from ads import config, SearchQuery"
      ],
      "metadata": {
        "id": "CMeSRdTWhM0a"
      },
      "execution_count": 7,
      "outputs": []
    },
    {
      "cell_type": "code",
      "source": [
        "# Inserta tu token de API de ADS aquí\n",
        "config.token= 'XDeQshk5BQ1bZzzF3xpA9yoI1o5RRu8jj7UpApyB'"
      ],
      "metadata": {
        "id": "wG2UYkdXgvwK"
      },
      "execution_count": 9,
      "outputs": []
    },
    {
      "cell_type": "code",
      "source": [
        "def get_document_details(bibcode):\n",
        "\n",
        "   # Realiza la búsqueda en la base de datos de ADS\n",
        "   result = next(SearchQuery(bibcode=bibcode,fl=['author', 'title', 'title', 'doi']))\n",
        "\n",
        "   # Imprime los datos detallados del documento\n",
        "   print(\"Título:\", result.title[0])\n",
        "   print(\"Autores:\", ', '.join(result.author))\n",
        "   print(\"Resumen:\", result.abstract)\n",
        "   print(\"DOI:\", result.doi)"
      ],
      "metadata": {
        "id": "3eXj4JUbQyiE"
      },
      "execution_count": 11,
      "outputs": []
    },
    {
      "cell_type": "code",
      "source": [
        "# Define el bibcode del documento que deseas consultar\n",
        "bibcode = \"2020yCat.1350....0G\""
      ],
      "metadata": {
        "id": "Tn58RebPQsNI"
      },
      "execution_count": 2,
      "outputs": []
    },
    {
      "cell_type": "code",
      "source": [
        "# realiza la búsqueda\n",
        "get_document_details(bibcode)"
      ],
      "metadata": {
        "colab": {
          "base_uri": "https://localhost:8080/"
        },
        "id": "mjrx-1MPQ_V9",
        "outputId": "e6ff7219-f57d-4d8d-adfd-b5ca1c22deba"
      },
      "execution_count": 12,
      "outputs": [
        {
          "output_type": "stream",
          "name": "stdout",
          "text": [
            "Título: VizieR Online Data Catalog: Gaia EDR3 (Gaia Collaboration, 2020)\n",
            "Autores: Gaia Collaboration\n",
            "Resumen: Contents of Gaia EDR3: <P />The five-parameter astrometric solution - positions on the sky (alpha,delta), parallaxes, and proper motions - for around 1.5 billion (1.5x10<SUP>9</SUP>) sources, with a limiting magnitude of about G~=21 and a bright limit of about G~=3. The astrometric solution will be accompanied with some new quality indicators, like RUWE, and source image descriptors. <P />In addition, two-parameters solutions - positions on the sky (alpha,delta) - for around 300 million additional sources. <P />G magnitudes for around 1.8 billion sources. <P />GBP and GRP magnitudes for around 1.5 billion sources. <P />Please be aware that the photometric system for the G, GBP, and GRP bands in Gaia EDR3 is different from the photometric system as used in Gaia DR2 and Gaia DR1. <P />Full passband definitions for G, GBP, and GRP. More information will become available here. <P />About 1.5 million celestial reference frame (Gaia-CRF) sources. <P />Cross-matches between Gaia EDR3 sources on the one hand and Hipparcos-2, Tycho-2 + TDSC merged, 2MASS PSC (merged with 2MASX), SDSS DR13, Pan-STARRS1 DR1, SkyMapper DR1, GSC 2.3, APASS DR9, RAVE DR5, allWISE, and URAT-1 data on the other hand. <P />Additionally, a Gaia EDR3 to Gaia DR2 match will be provided. <P />Simulated data from Gaia Object Generator (GOG) and Gaia Universe Model Snapshot (GUMS) will be provided. <P />The commanded scan law covering the Gaia EDR3 data collection period will be provided. Also the major periods where data was not sent to the ground or could not be processed are identified. <P />Gaia DR3 data (both Gaia EDR3 and the full Gaia DR3) are based on data collected between 25 July 2014 (10:30 UTC) and 28 May 2017 (08:44 UTC), spanning a period of 34 months. As a comparison, Gaia DR2 was based on 22 months of data and Gaia DR1 was based on observations collected during the first 14 months of Gaia's routine operational phase. <P />The reference epoch for Gaia DR3 (both Gaia EDR3 and the full Gaia DR3) is 2016.0. Remember that the reference epoch is different for each Gaia data release (it was was J2015.5 for Gaia DR2 and J2015.0 for Gaia DR1). <P />Positions and proper motions are referred to the ICRS, to which the optical reference frame defined by Gaia EDR3 is aligned. The time coordinate for Gaia EDR3 is the barycentric coordinate time (TCB). <P />(5 data files).\n",
            "DOI: ['10.26093/cds/vizier.1350']\n"
          ]
        }
      ]
    },
    {
      "cell_type": "markdown",
      "source": [
        "## Referencias\n",
        "The ads Python package\n",
        "https://ads.readthedocs.io/en/latest/\n",
        "\n",
        "Obtener el token de NASA ADS aquí:\n",
        "-Registrarse como usuario en este enlace:\n",
        " https://ui.adsabs.harvard.edu/user/account/login\n",
        "\n",
        "-Una vez registrado, generar el token aquí:\n",
        "https://ui.adsabs.harvard.edu/user/settings/token"
      ],
      "metadata": {
        "id": "U35O84iub_g_"
      }
    }
  ]
}