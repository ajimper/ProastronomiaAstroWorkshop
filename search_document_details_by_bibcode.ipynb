{
  "nbformat": 4,
  "nbformat_minor": 0,
  "metadata": {
    "colab": {
      "provenance": [],
      "authorship_tag": "ABX9TyPJiKzzGWVl7pG9sBB6Fuae",
      "include_colab_link": true
    },
    "kernelspec": {
      "name": "python3",
      "display_name": "Python 3"
    },
    "language_info": {
      "name": "python"
    }
  },
  "cells": [
    {
      "cell_type": "markdown",
      "metadata": {
        "id": "view-in-github",
        "colab_type": "text"
      },
      "source": [
        "<a href=\"https://colab.research.google.com/github/ajimper/ProastronomiaAstroWorkshop/blob/main/search_document_details_by_bibcode.ipynb\" target=\"_parent\"><img src=\"https://colab.research.google.com/assets/colab-badge.svg\" alt=\"Open In Colab\"/></a>"
      ]
    },
    {
      "cell_type": "markdown",
      "source": [
        "# ¿Como determinar los detalles de una entrada bibliográfica codificada con un BIBCODE en el ADS?"
      ],
      "metadata": {
        "id": "31WbrOb0P8tD"
      }
    },
    {
      "cell_type": "code",
      "execution_count": null,
      "metadata": {
        "colab": {
          "base_uri": "https://localhost:8080/"
        },
        "id": "b7Joo4-LPpzX",
        "outputId": "f62c695c-f888-45f2-d0ce-9daa9ce452c9"
      },
      "outputs": [
        {
          "output_type": "stream",
          "name": "stdout",
          "text": [
            "Collecting ads\n",
            "  Downloading ads-0.12.4.tar.gz (36 kB)\n",
            "  Preparing metadata (setup.py) ... \u001b[?25l\u001b[?25hdone\n",
            "Requirement already satisfied: six in /usr/local/lib/python3.10/dist-packages (from ads) (1.16.0)\n",
            "Requirement already satisfied: requests in /usr/local/lib/python3.10/dist-packages (from ads) (2.31.0)\n",
            "Collecting httpretty>=0.8.10 (from ads)\n",
            "  Downloading httpretty-1.1.4.tar.gz (442 kB)\n",
            "\u001b[2K     \u001b[90m━━━━━━━━━━━━━━━━━━━━━━━━━━━━━━━━━━━━━━━━\u001b[0m \u001b[32m442.4/442.4 kB\u001b[0m \u001b[31m10.0 MB/s\u001b[0m eta \u001b[36m0:00:00\u001b[0m\n",
            "\u001b[?25h  Preparing metadata (setup.py) ... \u001b[?25l\u001b[?25hdone\n",
            "Requirement already satisfied: werkzeug in /usr/local/lib/python3.10/dist-packages (from ads) (3.0.1)\n",
            "Collecting mock (from ads)\n",
            "  Downloading mock-5.1.0-py3-none-any.whl (30 kB)\n",
            "Requirement already satisfied: charset-normalizer<4,>=2 in /usr/local/lib/python3.10/dist-packages (from requests->ads) (3.3.2)\n",
            "Requirement already satisfied: idna<4,>=2.5 in /usr/local/lib/python3.10/dist-packages (from requests->ads) (3.6)\n",
            "Requirement already satisfied: urllib3<3,>=1.21.1 in /usr/local/lib/python3.10/dist-packages (from requests->ads) (2.0.7)\n",
            "Requirement already satisfied: certifi>=2017.4.17 in /usr/local/lib/python3.10/dist-packages (from requests->ads) (2024.2.2)\n",
            "Requirement already satisfied: MarkupSafe>=2.1.1 in /usr/local/lib/python3.10/dist-packages (from werkzeug->ads) (2.1.5)\n",
            "Building wheels for collected packages: ads, httpretty\n",
            "  Building wheel for ads (setup.py) ... \u001b[?25l\u001b[?25hdone\n",
            "  Created wheel for ads: filename=ads-0.12.4-py3-none-any.whl size=40809 sha256=48131c66d5b89a9501aab28363369ccd71b5fe0f455606a6cc514cbe82e9d772\n",
            "  Stored in directory: /root/.cache/pip/wheels/00/8f/82/8ea0a739ac391795d9ebc39e935b214a9ba94de35d5d76cc79\n",
            "  Building wheel for httpretty (setup.py) ... \u001b[?25l\u001b[?25hdone\n",
            "  Created wheel for httpretty: filename=httpretty-1.1.4-py3-none-any.whl size=28791 sha256=f4e309a0b9f2a81bd4b6e40502b795f1f66214c9de932ceb4f0dd77fb7484c4b\n",
            "  Stored in directory: /root/.cache/pip/wheels/17/84/74/456da302b40f8d81976edc741ba0a04bf64fd4bb3c58aca9fb\n",
            "Successfully built ads httpretty\n",
            "Installing collected packages: mock, httpretty, ads\n",
            "Successfully installed ads-0.12.4 httpretty-1.1.4 mock-5.1.0\n"
          ]
        }
      ],
      "source": [
        "!pip install ads"
      ]
    },
    {
      "cell_type": "code",
      "source": [
        "from ads import config, SearchQuery"
      ],
      "metadata": {
        "id": "CMeSRdTWhM0a"
      },
      "execution_count": null,
      "outputs": []
    },
    {
      "cell_type": "code",
      "source": [
        "# Inserta tu token de API de ADS aquí\n",
        "ads.config.token= 'XDeQshk5BQ1bZzzF3xpA9yoI1o5RRu8jj7UpApyB'"
      ],
      "metadata": {
        "id": "wG2UYkdXgvwK"
      },
      "execution_count": null,
      "outputs": []
    },
    {
      "cell_type": "code",
      "source": [
        "def get_document_details(bibcode):\n",
        "\n",
        "   # Realiza la búsqueda en la base de datos de ADS\n",
        "   result = next(SearchQuery(bibcode=bibcode))\n",
        "\n",
        "   # Imprime los datos detallados del documento\n",
        "   print(\"Título:\", result.title[0])\n",
        "   print(\"Autores:\", ', '.join(result.author))\n",
        "   print(\"Resumen:\", result.abstract)\n",
        "   print(\"DOI:\", result.doi)"
      ],
      "metadata": {
        "id": "3eXj4JUbQyiE"
      },
      "execution_count": null,
      "outputs": []
    },
    {
      "cell_type": "code",
      "source": [
        "# Define el bibcode del documento que deseas consultar\n",
        "bibcode = \"2020yCat.1350....0G\""
      ],
      "metadata": {
        "id": "Tn58RebPQsNI"
      },
      "execution_count": null,
      "outputs": []
    },
    {
      "cell_type": "code",
      "source": [
        "# realiza la búsqueda\n",
        "get_document_details(bibcode)"
      ],
      "metadata": {
        "colab": {
          "base_uri": "https://localhost:8080/"
        },
        "id": "mjrx-1MPQ_V9",
        "outputId": "9bf2d5d1-0c04-4ba6-cd39-0494145463d2"
      },
      "execution_count": null,
      "outputs": [
        {
          "output_type": "stream",
          "name": "stdout",
          "text": [
            "Título: VizieR Online Data Catalog: Gaia EDR3 (Gaia Collaboration, 2020)\n",
            "Autores: Gaia Collaboration\n",
            "Resumen: Intragastric administration of glucose inhibits the induction of serine dehydratase and tyrosine aminotransferase by glucagon in rat liver, but has no effect on the increase in hepatic adenosine 3',5'-monophosphate resulting from administration of glucagon. Thus, glucose repression in mammalian liver, unlike catabolite repression in microorganisms, appears to operate independently of the amounts of cyclic nucleotide in the cells.\n",
            "DOI: ['10.1126/science.174.4005.142']\n"
          ]
        }
      ]
    },
    {
      "cell_type": "markdown",
      "source": [
        "## Referencias\n",
        "The ads Python package\n",
        "https://ads.readthedocs.io/en/latest/\n",
        "\n",
        "Obtener el token de NASA ADS aquí:\n",
        "-Registrarse como usuario en este enlace:\n",
        " https://ui.adsabs.harvard.edu/user/account/login\n",
        "\n",
        "-Una vez registrado, generar el token aquí:\n",
        "https://ui.adsabs.harvard.edu/user/settings/token"
      ],
      "metadata": {
        "id": "U35O84iub_g_"
      }
    }
  ]
}